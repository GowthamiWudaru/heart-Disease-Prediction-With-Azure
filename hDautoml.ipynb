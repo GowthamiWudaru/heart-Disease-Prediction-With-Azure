{
 "cells": [
  {
   "cell_type": "markdown",
   "metadata": {},
   "source": [
    "# Automated ML\n",
    "\n",
    "TODO: Import Dependencies. In the cell below, import all the dependencies that you will need to complete the project."
   ]
  },
  {
   "cell_type": "code",
   "execution_count": 1,
   "metadata": {
    "gather": {
     "logged": 1598423888013
    },
    "jupyter": {
     "outputs_hidden": false,
     "source_hidden": false
    },
    "nteract": {
     "transient": {
      "deleting": false
     }
    }
   },
   "outputs": [],
   "source": [
    "from azureml.core import Workspace, Experiment\n",
    "from azureml.core.compute import ComputeTarget, AmlCompute\n",
    "from azureml.core.compute_target import ComputeTargetException\n",
    "from azureml.widgets import RunDetails\n",
    "import os\n",
    "from azureml.train.automl import AutoMLConfig\n",
    "from azureml.data.dataset_factory import TabularDatasetFactory"
   ]
  },
  {
   "cell_type": "markdown",
   "metadata": {},
   "source": [
    "## Dataset\n",
    "\n",
    "### Overview\n",
    "TODO: In this markdown cell, give an overview of the dataset you are using. Also mention the task you will be performing.\n",
    "\n",
    "\n",
    "TODO: Get data. In the cell below, write code to access the data you will be using in this project. Remember that the dataset needs to be external."
   ]
  },
  {
   "cell_type": "code",
   "execution_count": 2,
   "metadata": {
    "gather": {
     "logged": 1598423890461
    },
    "jupyter": {
     "outputs_hidden": false,
     "source_hidden": false
    },
    "nteract": {
     "transient": {
      "deleting": false
     }
    }
   },
   "outputs": [],
   "source": [
    "ws = Workspace.from_config()\n",
    "\n",
    "# choose a name for experiment\n",
    "experiment_name = 'heartDiseaseAutoML'\n",
    "\n",
    "experiment=Experiment(ws, experiment_name)"
   ]
  },
  {
   "cell_type": "code",
   "execution_count": 3,
   "metadata": {},
   "outputs": [
    {
     "name": "stdout",
     "output_type": "stream",
     "text": [
      "Creating new Compute Cluster\n",
      "Creating\n",
      "Succeeded\n",
      "AmlCompute wait for completion finished\n",
      "\n",
      "Minimum number of nodes requested have been provisioned\n",
      "{'currentNodeCount': 0, 'targetNodeCount': 0, 'nodeStateCounts': {'preparingNodeCount': 0, 'runningNodeCount': 0, 'idleNodeCount': 0, 'unusableNodeCount': 0, 'leavingNodeCount': 0, 'preemptedNodeCount': 0}, 'allocationState': 'Steady', 'allocationStateTransitionTime': '2021-01-10T10:50:25.502000+00:00', 'errors': None, 'creationTime': '2021-01-10T10:50:19.835696+00:00', 'modifiedTime': '2021-01-10T10:50:35.780465+00:00', 'provisioningState': 'Succeeded', 'provisioningStateTransitionTime': None, 'scaleSettings': {'minNodeCount': 0, 'maxNodeCount': 4, 'nodeIdleTimeBeforeScaleDown': 'PT120S'}, 'vmPriority': 'Dedicated', 'vmSize': 'STANDARD_D2_V2'}\n"
     ]
    }
   ],
   "source": [
    "#Compute CLuster\n",
    "compute_cluster_name = 'project'\n",
    "try:\n",
    "    compute_cluster = ComputeTarget(workspace=ws,name=compute_cluster_name)\n",
    "    print(\"Found existing compute cluster\")\n",
    "except ComputeTargetException:\n",
    "    print(\"Creating new Compute Cluster\")\n",
    "    compute_cluster_config = AmlCompute.provisioning_configuration(vm_size = 'Standard_D2_V2', max_nodes = 4)\n",
    "    compute_cluster = ComputeTarget.create(ws, compute_cluster_name, compute_cluster_config)\n",
    "    compute_cluster.wait_for_completion(show_output = True)\n",
    "print(compute_cluster.get_status().serialize())"
   ]
  },
  {
   "cell_type": "code",
   "execution_count": 4,
   "metadata": {},
   "outputs": [],
   "source": [
    "ds = TabularDatasetFactory.from_delimited_files(\"https://raw.githubusercontent.com/GowthamiWudaru/heart-Disease-Prediction-With-Azure/main/heartDisease.csv\")"
   ]
  },
  {
   "cell_type": "markdown",
   "metadata": {},
   "source": [
    "## AutoML Configuration\n",
    "\n",
    "TODO: Explain why you chose the automl settings and cofiguration you used below."
   ]
  },
  {
   "cell_type": "code",
   "execution_count": 5,
   "metadata": {
    "gather": {
     "logged": 1598429217746
    },
    "jupyter": {
     "outputs_hidden": false,
     "source_hidden": false
    },
    "nteract": {
     "transient": {
      "deleting": false
     }
    }
   },
   "outputs": [],
   "source": [
    "# TODO: Put your automl config here\n",
    "automl_settings = {\n",
    "    \"experiment_timeout_minutes\": 30,\n",
    "    \"primary_metric\" : 'accuracy'\n",
    "}\n",
    "automl_config = AutoMLConfig(\n",
    "    task='classification',\n",
    "    training_data=ds,\n",
    "    label_column_name='num',\n",
    "    n_cross_validations=5,\n",
    "    model_explainability=True,\n",
    "    compute_target = compute_cluster,\n",
    "    **automl_settings\n",
    ")"
   ]
  },
  {
   "cell_type": "code",
   "execution_count": 6,
   "metadata": {
    "gather": {
     "logged": 1598431107951
    },
    "jupyter": {
     "outputs_hidden": false,
     "source_hidden": false
    },
    "nteract": {
     "transient": {
      "deleting": false
     }
    }
   },
   "outputs": [
    {
     "name": "stdout",
     "output_type": "stream",
     "text": [
      "Running on remote.\n"
     ]
    }
   ],
   "source": [
    "# TODO: Submit your experiment\n",
    "automl_run = experiment.submit(automl_config)"
   ]
  },
  {
   "cell_type": "markdown",
   "metadata": {},
   "source": [
    "## Run Details\n",
    "\n",
    "OPTIONAL: Write about the different models trained and their performance. Why do you think some models did better than others?\n",
    "\n",
    "TODO: In the cell below, use the `RunDetails` widget to show the different experiments."
   ]
  },
  {
   "cell_type": "code",
   "execution_count": 7,
   "metadata": {
    "gather": {
     "logged": 1598431121770
    },
    "jupyter": {
     "outputs_hidden": false,
     "source_hidden": false
    },
    "nteract": {
     "transient": {
      "deleting": false
     }
    }
   },
   "outputs": [
    {
     "data": {
      "application/vnd.jupyter.widget-view+json": {
       "model_id": "7027ece7b7de489c8eccf3bc1aca6552",
       "version_major": 2,
       "version_minor": 0
      },
      "text/plain": [
       "_AutoMLWidget(widget_settings={'childWidgetDisplay': 'popup', 'send_telemetry': False, 'log_level': 'INFO', 's…"
      ]
     },
     "metadata": {},
     "output_type": "display_data"
    },
    {
     "data": {
      "application/aml.mini.widget.v1": "{\"status\": \"Completed\", \"workbench_run_details_uri\": \"https://ml.azure.com/experiments/heartDiseaseAutoML/runs/AutoML_7afbb833-3ef3-43b9-aae0-8d2ef144c9ad?wsid=/subscriptions/9e65f93e-bdd8-437b-b1e8-0647cd6098f7/resourcegroups/aml-quickstarts-134203/workspaces/quick-starts-ws-134203\", \"run_id\": \"AutoML_7afbb833-3ef3-43b9-aae0-8d2ef144c9ad\", \"run_properties\": {\"run_id\": \"AutoML_7afbb833-3ef3-43b9-aae0-8d2ef144c9ad\", \"created_utc\": \"2021-01-10T10:51:09.840666Z\", \"properties\": {\"num_iterations\": \"1000\", \"training_type\": \"TrainFull\", \"acquisition_function\": \"EI\", \"primary_metric\": \"accuracy\", \"train_split\": \"0\", \"acquisition_parameter\": \"0\", \"num_cross_validation\": \"5\", \"target\": \"project\", \"AMLSettingsJsonString\": \"{\\\"path\\\":null,\\\"name\\\":\\\"heartDiseaseAutoML\\\",\\\"subscription_id\\\":\\\"9e65f93e-bdd8-437b-b1e8-0647cd6098f7\\\",\\\"resource_group\\\":\\\"aml-quickstarts-134203\\\",\\\"workspace_name\\\":\\\"quick-starts-ws-134203\\\",\\\"region\\\":\\\"southcentralus\\\",\\\"compute_target\\\":\\\"project\\\",\\\"spark_service\\\":null,\\\"azure_service\\\":\\\"remote\\\",\\\"many_models\\\":false,\\\"pipeline_fetch_max_batch_size\\\":1,\\\"iterations\\\":1000,\\\"primary_metric\\\":\\\"accuracy\\\",\\\"task_type\\\":\\\"classification\\\",\\\"data_script\\\":null,\\\"validation_size\\\":0.0,\\\"n_cross_validations\\\":5,\\\"y_min\\\":null,\\\"y_max\\\":null,\\\"num_classes\\\":null,\\\"featurization\\\":\\\"auto\\\",\\\"_ignore_package_version_incompatibilities\\\":false,\\\"is_timeseries\\\":false,\\\"max_cores_per_iteration\\\":1,\\\"max_concurrent_iterations\\\":1,\\\"iteration_timeout_minutes\\\":null,\\\"mem_in_mb\\\":null,\\\"enforce_time_on_windows\\\":false,\\\"experiment_timeout_minutes\\\":30,\\\"experiment_exit_score\\\":null,\\\"whitelist_models\\\":null,\\\"blacklist_algos\\\":[\\\"TensorFlowLinearClassifier\\\",\\\"TensorFlowDNN\\\"],\\\"supported_models\\\":[\\\"TensorFlowLinearClassifier\\\",\\\"KNN\\\",\\\"LightGBM\\\",\\\"TensorFlowDNN\\\",\\\"ExtremeRandomTrees\\\",\\\"XGBoostClassifier\\\",\\\"BernoulliNaiveBayes\\\",\\\"LogisticRegression\\\",\\\"RandomForest\\\",\\\"AveragedPerceptronClassifier\\\",\\\"GradientBoosting\\\",\\\"SGD\\\",\\\"MultinomialNaiveBayes\\\",\\\"LinearSVM\\\",\\\"DecisionTree\\\",\\\"SVM\\\"],\\\"auto_blacklist\\\":true,\\\"blacklist_samples_reached\\\":false,\\\"exclude_nan_labels\\\":true,\\\"verbosity\\\":20,\\\"_debug_log\\\":\\\"azureml_automl.log\\\",\\\"show_warnings\\\":false,\\\"model_explainability\\\":true,\\\"service_url\\\":null,\\\"sdk_url\\\":null,\\\"sdk_packages\\\":null,\\\"enable_onnx_compatible_models\\\":false,\\\"enable_split_onnx_featurizer_estimator_models\\\":false,\\\"vm_type\\\":\\\"STANDARD_D2_V2\\\",\\\"telemetry_verbosity\\\":20,\\\"send_telemetry\\\":true,\\\"enable_dnn\\\":false,\\\"scenario\\\":\\\"SDK-1.13.0\\\",\\\"environment_label\\\":null,\\\"force_text_dnn\\\":false,\\\"enable_feature_sweeping\\\":true,\\\"enable_early_stopping\\\":false,\\\"early_stopping_n_iters\\\":10,\\\"metrics\\\":null,\\\"enable_ensembling\\\":true,\\\"enable_stack_ensembling\\\":true,\\\"ensemble_iterations\\\":15,\\\"enable_tf\\\":false,\\\"enable_subsampling\\\":null,\\\"subsample_seed\\\":null,\\\"enable_nimbusml\\\":false,\\\"enable_streaming\\\":false,\\\"force_streaming\\\":false,\\\"track_child_runs\\\":true,\\\"allowed_private_models\\\":[],\\\"label_column_name\\\":\\\"num\\\",\\\"weight_column_name\\\":null,\\\"cv_split_column_names\\\":null,\\\"enable_local_managed\\\":false,\\\"_local_managed_run_id\\\":null,\\\"cost_mode\\\":1,\\\"lag_length\\\":0,\\\"metric_operation\\\":\\\"maximize\\\",\\\"preprocess\\\":true}\", \"DataPrepJsonString\": \"{\\\\\\\"training_data\\\\\\\": \\\\\\\"{\\\\\\\\\\\\\\\"blocks\\\\\\\\\\\\\\\": [{\\\\\\\\\\\\\\\"id\\\\\\\\\\\\\\\": \\\\\\\\\\\\\\\"32dd00cc-f0e5-4c26-8c46-5c866e16fb8e\\\\\\\\\\\\\\\", \\\\\\\\\\\\\\\"type\\\\\\\\\\\\\\\": \\\\\\\\\\\\\\\"Microsoft.DPrep.GetFilesBlock\\\\\\\\\\\\\\\", \\\\\\\\\\\\\\\"arguments\\\\\\\\\\\\\\\": {\\\\\\\\\\\\\\\"isArchive\\\\\\\\\\\\\\\": false, \\\\\\\\\\\\\\\"path\\\\\\\\\\\\\\\": {\\\\\\\\\\\\\\\"target\\\\\\\\\\\\\\\": 4, \\\\\\\\\\\\\\\"resourceDetails\\\\\\\\\\\\\\\": [{\\\\\\\\\\\\\\\"path\\\\\\\\\\\\\\\": \\\\\\\\\\\\\\\"https://raw.githubusercontent.com/GowthamiWudaru/heart-Disease-Prediction-With-Azure/main/heartDisease.csv\\\\\\\\\\\\\\\"}]}}, \\\\\\\\\\\\\\\"localData\\\\\\\\\\\\\\\": {}, \\\\\\\\\\\\\\\"isEnabled\\\\\\\\\\\\\\\": true, \\\\\\\\\\\\\\\"name\\\\\\\\\\\\\\\": null, \\\\\\\\\\\\\\\"annotation\\\\\\\\\\\\\\\": null}, {\\\\\\\\\\\\\\\"id\\\\\\\\\\\\\\\": \\\\\\\\\\\\\\\"895c9843-4375-4593-94a4-66de9be7e51e\\\\\\\\\\\\\\\", \\\\\\\\\\\\\\\"type\\\\\\\\\\\\\\\": \\\\\\\\\\\\\\\"Microsoft.DPrep.ParseDelimitedBlock\\\\\\\\\\\\\\\", \\\\\\\\\\\\\\\"arguments\\\\\\\\\\\\\\\": {\\\\\\\\\\\\\\\"columnHeadersMode\\\\\\\\\\\\\\\": 3, \\\\\\\\\\\\\\\"fileEncoding\\\\\\\\\\\\\\\": 0, \\\\\\\\\\\\\\\"handleQuotedLineBreaks\\\\\\\\\\\\\\\": false, \\\\\\\\\\\\\\\"preview\\\\\\\\\\\\\\\": false, \\\\\\\\\\\\\\\"separator\\\\\\\\\\\\\\\": \\\\\\\\\\\\\\\",\\\\\\\\\\\\\\\", \\\\\\\\\\\\\\\"skipRows\\\\\\\\\\\\\\\": 0, \\\\\\\\\\\\\\\"skipRowsMode\\\\\\\\\\\\\\\": 0}, \\\\\\\\\\\\\\\"localData\\\\\\\\\\\\\\\": {}, \\\\\\\\\\\\\\\"isEnabled\\\\\\\\\\\\\\\": true, \\\\\\\\\\\\\\\"name\\\\\\\\\\\\\\\": null, \\\\\\\\\\\\\\\"annotation\\\\\\\\\\\\\\\": null}, {\\\\\\\\\\\\\\\"id\\\\\\\\\\\\\\\": \\\\\\\\\\\\\\\"eefdd832-14f2-4d12-86e5-1698b3434c8e\\\\\\\\\\\\\\\", \\\\\\\\\\\\\\\"type\\\\\\\\\\\\\\\": \\\\\\\\\\\\\\\"Microsoft.DPrep.DropColumnsBlock\\\\\\\\\\\\\\\", \\\\\\\\\\\\\\\"arguments\\\\\\\\\\\\\\\": {\\\\\\\\\\\\\\\"columns\\\\\\\\\\\\\\\": {\\\\\\\\\\\\\\\"type\\\\\\\\\\\\\\\": 0, \\\\\\\\\\\\\\\"details\\\\\\\\\\\\\\\": {\\\\\\\\\\\\\\\"selectedColumns\\\\\\\\\\\\\\\": [\\\\\\\\\\\\\\\"Path\\\\\\\\\\\\\\\"]}}}, \\\\\\\\\\\\\\\"localData\\\\\\\\\\\\\\\": {}, \\\\\\\\\\\\\\\"isEnabled\\\\\\\\\\\\\\\": true, \\\\\\\\\\\\\\\"name\\\\\\\\\\\\\\\": null, \\\\\\\\\\\\\\\"annotation\\\\\\\\\\\\\\\": null}, {\\\\\\\\\\\\\\\"id\\\\\\\\\\\\\\\": \\\\\\\\\\\\\\\"454f094b-b604-4fd9-a42f-b4dc599d351e\\\\\\\\\\\\\\\", \\\\\\\\\\\\\\\"type\\\\\\\\\\\\\\\": \\\\\\\\\\\\\\\"Microsoft.DPrep.SetColumnTypesBlock\\\\\\\\\\\\\\\", \\\\\\\\\\\\\\\"arguments\\\\\\\\\\\\\\\": {\\\\\\\\\\\\\\\"columnConversion\\\\\\\\\\\\\\\": [{\\\\\\\\\\\\\\\"column\\\\\\\\\\\\\\\": {\\\\\\\\\\\\\\\"type\\\\\\\\\\\\\\\": 2, \\\\\\\\\\\\\\\"details\\\\\\\\\\\\\\\": {\\\\\\\\\\\\\\\"selectedColumn\\\\\\\\\\\\\\\": \\\\\\\\\\\\\\\"age\\\\\\\\\\\\\\\"}}, \\\\\\\\\\\\\\\"typeProperty\\\\\\\\\\\\\\\": 3}, {\\\\\\\\\\\\\\\"column\\\\\\\\\\\\\\\": {\\\\\\\\\\\\\\\"type\\\\\\\\\\\\\\\": 2, \\\\\\\\\\\\\\\"details\\\\\\\\\\\\\\\": {\\\\\\\\\\\\\\\"selectedColumn\\\\\\\\\\\\\\\": \\\\\\\\\\\\\\\"sex\\\\\\\\\\\\\\\"}}, \\\\\\\\\\\\\\\"typeProperty\\\\\\\\\\\\\\\": 3}, {\\\\\\\\\\\\\\\"column\\\\\\\\\\\\\\\": {\\\\\\\\\\\\\\\"type\\\\\\\\\\\\\\\": 2, \\\\\\\\\\\\\\\"details\\\\\\\\\\\\\\\": {\\\\\\\\\\\\\\\"selectedColumn\\\\\\\\\\\\\\\": \\\\\\\\\\\\\\\"cp\\\\\\\\\\\\\\\"}}, \\\\\\\\\\\\\\\"typeProperty\\\\\\\\\\\\\\\": 3}, {\\\\\\\\\\\\\\\"column\\\\\\\\\\\\\\\": {\\\\\\\\\\\\\\\"type\\\\\\\\\\\\\\\": 2, \\\\\\\\\\\\\\\"details\\\\\\\\\\\\\\\": {\\\\\\\\\\\\\\\"selectedColumn\\\\\\\\\\\\\\\": \\\\\\\\\\\\\\\"trestbps\\\\\\\\\\\\\\\"}}, \\\\\\\\\\\\\\\"typeProperty\\\\\\\\\\\\\\\": 3}, {\\\\\\\\\\\\\\\"column\\\\\\\\\\\\\\\": {\\\\\\\\\\\\\\\"type\\\\\\\\\\\\\\\": 2, \\\\\\\\\\\\\\\"details\\\\\\\\\\\\\\\": {\\\\\\\\\\\\\\\"selectedColumn\\\\\\\\\\\\\\\": \\\\\\\\\\\\\\\"chol\\\\\\\\\\\\\\\"}}, \\\\\\\\\\\\\\\"typeProperty\\\\\\\\\\\\\\\": 3}, {\\\\\\\\\\\\\\\"column\\\\\\\\\\\\\\\": {\\\\\\\\\\\\\\\"type\\\\\\\\\\\\\\\": 2, \\\\\\\\\\\\\\\"details\\\\\\\\\\\\\\\": {\\\\\\\\\\\\\\\"selectedColumn\\\\\\\\\\\\\\\": \\\\\\\\\\\\\\\"fbs\\\\\\\\\\\\\\\"}}, \\\\\\\\\\\\\\\"typeProperty\\\\\\\\\\\\\\\": 3}, {\\\\\\\\\\\\\\\"column\\\\\\\\\\\\\\\": {\\\\\\\\\\\\\\\"type\\\\\\\\\\\\\\\": 2, \\\\\\\\\\\\\\\"details\\\\\\\\\\\\\\\": {\\\\\\\\\\\\\\\"selectedColumn\\\\\\\\\\\\\\\": \\\\\\\\\\\\\\\"restecg\\\\\\\\\\\\\\\"}}, \\\\\\\\\\\\\\\"typeProperty\\\\\\\\\\\\\\\": 3}, {\\\\\\\\\\\\\\\"column\\\\\\\\\\\\\\\": {\\\\\\\\\\\\\\\"type\\\\\\\\\\\\\\\": 2, \\\\\\\\\\\\\\\"details\\\\\\\\\\\\\\\": {\\\\\\\\\\\\\\\"selectedColumn\\\\\\\\\\\\\\\": \\\\\\\\\\\\\\\"thalach\\\\\\\\\\\\\\\"}}, \\\\\\\\\\\\\\\"typeProperty\\\\\\\\\\\\\\\": 3}, {\\\\\\\\\\\\\\\"column\\\\\\\\\\\\\\\": {\\\\\\\\\\\\\\\"type\\\\\\\\\\\\\\\": 2, \\\\\\\\\\\\\\\"details\\\\\\\\\\\\\\\": {\\\\\\\\\\\\\\\"selectedColumn\\\\\\\\\\\\\\\": \\\\\\\\\\\\\\\"exang\\\\\\\\\\\\\\\"}}, \\\\\\\\\\\\\\\"typeProperty\\\\\\\\\\\\\\\": 3}, {\\\\\\\\\\\\\\\"column\\\\\\\\\\\\\\\": {\\\\\\\\\\\\\\\"type\\\\\\\\\\\\\\\": 2, \\\\\\\\\\\\\\\"details\\\\\\\\\\\\\\\": {\\\\\\\\\\\\\\\"selectedColumn\\\\\\\\\\\\\\\": \\\\\\\\\\\\\\\"oldpeak\\\\\\\\\\\\\\\"}}, \\\\\\\\\\\\\\\"typeProperty\\\\\\\\\\\\\\\": 3}, {\\\\\\\\\\\\\\\"column\\\\\\\\\\\\\\\": {\\\\\\\\\\\\\\\"type\\\\\\\\\\\\\\\": 2, \\\\\\\\\\\\\\\"details\\\\\\\\\\\\\\\": {\\\\\\\\\\\\\\\"selectedColumn\\\\\\\\\\\\\\\": \\\\\\\\\\\\\\\"slope\\\\\\\\\\\\\\\"}}, \\\\\\\\\\\\\\\"typeProperty\\\\\\\\\\\\\\\": 3}, {\\\\\\\\\\\\\\\"column\\\\\\\\\\\\\\\": {\\\\\\\\\\\\\\\"type\\\\\\\\\\\\\\\": 2, \\\\\\\\\\\\\\\"details\\\\\\\\\\\\\\\": {\\\\\\\\\\\\\\\"selectedColumn\\\\\\\\\\\\\\\": \\\\\\\\\\\\\\\"ca\\\\\\\\\\\\\\\"}}, \\\\\\\\\\\\\\\"typeProperty\\\\\\\\\\\\\\\": 3}, {\\\\\\\\\\\\\\\"column\\\\\\\\\\\\\\\": {\\\\\\\\\\\\\\\"type\\\\\\\\\\\\\\\": 2, \\\\\\\\\\\\\\\"details\\\\\\\\\\\\\\\": {\\\\\\\\\\\\\\\"selectedColumn\\\\\\\\\\\\\\\": \\\\\\\\\\\\\\\"thal\\\\\\\\\\\\\\\"}}, \\\\\\\\\\\\\\\"typeProperty\\\\\\\\\\\\\\\": 3}, {\\\\\\\\\\\\\\\"column\\\\\\\\\\\\\\\": {\\\\\\\\\\\\\\\"type\\\\\\\\\\\\\\\": 2, \\\\\\\\\\\\\\\"details\\\\\\\\\\\\\\\": {\\\\\\\\\\\\\\\"selectedColumn\\\\\\\\\\\\\\\": \\\\\\\\\\\\\\\"num\\\\\\\\\\\\\\\"}}, \\\\\\\\\\\\\\\"typeProperty\\\\\\\\\\\\\\\": 2}]}, \\\\\\\\\\\\\\\"localData\\\\\\\\\\\\\\\": {}, \\\\\\\\\\\\\\\"isEnabled\\\\\\\\\\\\\\\": true, \\\\\\\\\\\\\\\"name\\\\\\\\\\\\\\\": null, \\\\\\\\\\\\\\\"annotation\\\\\\\\\\\\\\\": null}], \\\\\\\\\\\\\\\"inspectors\\\\\\\\\\\\\\\": [], \\\\\\\\\\\\\\\"meta\\\\\\\\\\\\\\\": {\\\\\\\\\\\\\\\"savedDatasetId\\\\\\\\\\\\\\\": \\\\\\\\\\\\\\\"2768c26b-c1b3-456d-b8c4-8650e4ce8dbe\\\\\\\\\\\\\\\", \\\\\\\\\\\\\\\"datasetType\\\\\\\\\\\\\\\": \\\\\\\\\\\\\\\"tabular\\\\\\\\\\\\\\\", \\\\\\\\\\\\\\\"subscriptionId\\\\\\\\\\\\\\\": \\\\\\\\\\\\\\\"9e65f93e-bdd8-437b-b1e8-0647cd6098f7\\\\\\\\\\\\\\\", \\\\\\\\\\\\\\\"workspaceId\\\\\\\\\\\\\\\": \\\\\\\\\\\\\\\"c478e1fb-86d2-4b43-841f-8535aca626e6\\\\\\\\\\\\\\\", \\\\\\\\\\\\\\\"workspaceLocation\\\\\\\\\\\\\\\": \\\\\\\\\\\\\\\"southcentralus\\\\\\\\\\\\\\\"}}\\\\\\\", \\\\\\\"activities\\\\\\\": 0}\", \"EnableSubsampling\": null, \"runTemplate\": \"AutoML\", \"azureml.runsource\": \"automl\", \"display_task_type\": \"classification\", \"dependencies_versions\": \"{\\\"azureml-widgets\\\": \\\"1.19.0\\\", \\\"azureml-train\\\": \\\"1.19.0\\\", \\\"azureml-train-restclients-hyperdrive\\\": \\\"1.19.0\\\", \\\"azureml-train-core\\\": \\\"1.19.0\\\", \\\"azureml-train-automl\\\": \\\"1.19.0\\\", \\\"azureml-train-automl-runtime\\\": \\\"1.19.0\\\", \\\"azureml-train-automl-client\\\": \\\"1.19.0\\\", \\\"azureml-tensorboard\\\": \\\"1.19.0\\\", \\\"azureml-telemetry\\\": \\\"1.19.0\\\", \\\"azureml-sdk\\\": \\\"1.19.0\\\", \\\"azureml-samples\\\": \\\"0+unknown\\\", \\\"azureml-pipeline\\\": \\\"1.19.0\\\", \\\"azureml-pipeline-steps\\\": \\\"1.19.0\\\", \\\"azureml-pipeline-core\\\": \\\"1.19.0\\\", \\\"azureml-opendatasets\\\": \\\"1.19.0\\\", \\\"azureml-model-management-sdk\\\": \\\"1.0.1b6.post1\\\", \\\"azureml-mlflow\\\": \\\"1.19.0\\\", \\\"azureml-interpret\\\": \\\"1.19.0\\\", \\\"azureml-explain-model\\\": \\\"1.19.0\\\", \\\"azureml-defaults\\\": \\\"1.19.0\\\", \\\"azureml-dataset-runtime\\\": \\\"1.19.0\\\", \\\"azureml-dataprep\\\": \\\"2.6.1\\\", \\\"azureml-dataprep-rslex\\\": \\\"1.4.0\\\", \\\"azureml-dataprep-native\\\": \\\"26.0.0\\\", \\\"azureml-datadrift\\\": \\\"1.19.0\\\", \\\"azureml-core\\\": \\\"1.19.0\\\", \\\"azureml-contrib-services\\\": \\\"1.19.0\\\", \\\"azureml-contrib-server\\\": \\\"1.19.0\\\", \\\"azureml-contrib-reinforcementlearning\\\": \\\"1.19.0\\\", \\\"azureml-contrib-pipeline-steps\\\": \\\"1.19.0\\\", \\\"azureml-contrib-notebook\\\": \\\"1.19.0\\\", \\\"azureml-contrib-interpret\\\": \\\"1.19.0\\\", \\\"azureml-contrib-gbdt\\\": \\\"1.19.0\\\", \\\"azureml-contrib-fairness\\\": \\\"1.19.0\\\", \\\"azureml-contrib-dataset\\\": \\\"1.19.0\\\", \\\"azureml-cli-common\\\": \\\"1.19.0\\\", \\\"azureml-automl-runtime\\\": \\\"1.19.0\\\", \\\"azureml-automl-core\\\": \\\"1.19.0\\\", \\\"azureml-accel-models\\\": \\\"1.19.0\\\"}\", \"_aml_system_scenario_identification\": \"Remote.Parent\", \"ClientType\": \"SDK\", \"environment_cpu_name\": \"AzureML-AutoML\", \"environment_cpu_label\": \"prod\", \"environment_gpu_name\": \"AzureML-AutoML-GPU\", \"environment_gpu_label\": \"prod\", \"root_attribution\": \"automl\", \"attribution\": \"AutoML\", \"Orchestrator\": \"AutoML\", \"CancelUri\": \"https://southcentralus.experiments.azureml.net/jasmine/v1.0/subscriptions/9e65f93e-bdd8-437b-b1e8-0647cd6098f7/resourceGroups/aml-quickstarts-134203/providers/Microsoft.MachineLearningServices/workspaces/quick-starts-ws-134203/experimentids/018e393d-be7c-4886-bd3f-8fb8183f98f6/cancel/AutoML_7afbb833-3ef3-43b9-aae0-8d2ef144c9ad\", \"ClientSdkVersion\": \"1.19.0\", \"snapshotId\": \"00000000-0000-0000-0000-000000000000\", \"SetupRunId\": \"AutoML_7afbb833-3ef3-43b9-aae0-8d2ef144c9ad_setup\", \"SetupRunContainerId\": \"dcid.AutoML_7afbb833-3ef3-43b9-aae0-8d2ef144c9ad_setup\", \"FeaturizationRunJsonPath\": \"featurizer_container.json\", \"FeaturizationRunId\": \"AutoML_7afbb833-3ef3-43b9-aae0-8d2ef144c9ad_featurize\", \"ProblemInfoJsonString\": \"{\\\"dataset_num_categorical\\\": 0, \\\"is_sparse\\\": false, \\\"subsampling\\\": false, \\\"dataset_classes\\\": 2, \\\"dataset_features\\\": 13, \\\"dataset_samples\\\": 297, \\\"single_frequency_class_detected\\\": false}\", \"ModelExplainRunId\": \"AutoML_7afbb833-3ef3-43b9-aae0-8d2ef144c9ad_ModelExplain\"}, \"tags\": {\"model_explain_run\": \"best_run\", \"_aml_system_azureml.automlComponent\": \"AutoML\", \"pipeline_id\": \"\", \"score\": \"\", \"predicted_cost\": \"\", \"fit_time\": \"\", \"training_percent\": \"\", \"iteration\": \"\", \"run_preprocessor\": \"\", \"run_algorithm\": \"\", \"dynamic_whitelisting_iterations\": \"<25>;\", \"automl_best_child_run_id\": \"AutoML_7afbb833-3ef3-43b9-aae0-8d2ef144c9ad_27\"}, \"end_time_utc\": \"2021-01-10T11:37:35.541664Z\", \"status\": \"Completed\", \"log_files\": {}, \"log_groups\": [], \"run_duration\": \"0:46:25\"}, \"child_runs\": [{\"run_id\": \"AutoML_7afbb833-3ef3-43b9-aae0-8d2ef144c9ad_0\", \"run_number\": 5, \"metric\": null, \"status\": \"Completed\", \"run_type\": \"azureml.scriptrun\", \"training_percent\": \"100\", \"start_time\": \"2021-01-10T11:04:14.202819Z\", \"end_time\": \"2021-01-10T11:05:02.653008Z\", \"created_time\": \"2021-01-10T11:04:02.415782Z\", \"created_time_dt\": \"2021-01-10T11:04:02.415782Z\", \"duration\": \"0:01:00\", \"iteration\": \"0\", \"goal\": \"accuracy_max\", \"run_name\": \"MaxAbsScaler, LightGBM\", \"run_properties\": \"copy=True\", \"primary_metric\": 0.7979661, \"best_metric\": 0.7979661}, {\"run_id\": \"AutoML_7afbb833-3ef3-43b9-aae0-8d2ef144c9ad_1\", \"run_number\": 6, \"metric\": null, \"status\": \"Completed\", \"run_type\": \"azureml.scriptrun\", \"training_percent\": \"100\", \"start_time\": \"2021-01-10T11:05:20.606279Z\", \"end_time\": \"2021-01-10T11:08:30.540835Z\", \"created_time\": \"2021-01-10T11:05:03.915969Z\", \"created_time_dt\": \"2021-01-10T11:05:03.915969Z\", \"duration\": \"0:03:26\", \"iteration\": \"1\", \"goal\": \"accuracy_max\", \"run_name\": \"MaxAbsScaler, XGBoostClassifier\", \"run_properties\": \"copy=True\", \"primary_metric\": 0.80819209, \"best_metric\": 0.80819209}, {\"run_id\": \"AutoML_7afbb833-3ef3-43b9-aae0-8d2ef144c9ad_2\", \"run_number\": 7, \"metric\": null, \"status\": \"Completed\", \"run_type\": \"azureml.scriptrun\", \"training_percent\": \"100\", \"start_time\": \"2021-01-10T11:08:43.975041Z\", \"end_time\": \"2021-01-10T11:09:22.974689Z\", \"created_time\": \"2021-01-10T11:08:31.982736Z\", \"created_time_dt\": \"2021-01-10T11:08:31.982736Z\", \"duration\": \"0:00:50\", \"iteration\": \"2\", \"goal\": \"accuracy_max\", \"run_name\": \"MinMaxScaler, RandomForest\", \"run_properties\": \"copy=True, feature_range=(0, 1\", \"primary_metric\": 0.79457627, \"best_metric\": 0.80819209}, {\"run_id\": \"AutoML_7afbb833-3ef3-43b9-aae0-8d2ef144c9ad_3\", \"run_number\": 8, \"metric\": null, \"status\": \"Completed\", \"run_type\": \"azureml.scriptrun\", \"training_percent\": \"100\", \"start_time\": \"2021-01-10T11:09:36.966219Z\", \"end_time\": \"2021-01-10T11:10:21.473326Z\", \"created_time\": \"2021-01-10T11:09:25.12123Z\", \"created_time_dt\": \"2021-01-10T11:09:25.12123Z\", \"duration\": \"0:00:56\", \"iteration\": \"3\", \"goal\": \"accuracy_max\", \"run_name\": \"MinMaxScaler, RandomForest\", \"run_properties\": \"copy=True, feature_range=(0, 1\", \"primary_metric\": 0.81497175, \"best_metric\": 0.81497175}, {\"run_id\": \"AutoML_7afbb833-3ef3-43b9-aae0-8d2ef144c9ad_4\", \"run_number\": 9, \"metric\": null, \"status\": \"Completed\", \"run_type\": \"azureml.scriptrun\", \"training_percent\": \"100\", \"start_time\": \"2021-01-10T11:10:35.459204Z\", \"end_time\": \"2021-01-10T11:11:18.234899Z\", \"created_time\": \"2021-01-10T11:10:23.659079Z\", \"created_time_dt\": \"2021-01-10T11:10:23.659079Z\", \"duration\": \"0:00:54\", \"iteration\": \"4\", \"goal\": \"accuracy_max\", \"run_name\": \"MinMaxScaler, RandomForest\", \"run_properties\": \"copy=True, feature_range=(0, 1\", \"primary_metric\": 0.80158192, \"best_metric\": 0.81497175}, {\"run_id\": \"AutoML_7afbb833-3ef3-43b9-aae0-8d2ef144c9ad_5\", \"run_number\": 10, \"metric\": null, \"status\": \"Completed\", \"run_type\": \"azureml.scriptrun\", \"training_percent\": \"100\", \"start_time\": \"2021-01-10T11:11:34.15249Z\", \"end_time\": \"2021-01-10T11:12:25.986585Z\", \"created_time\": \"2021-01-10T11:11:20.577029Z\", \"created_time_dt\": \"2021-01-10T11:11:20.577029Z\", \"duration\": \"0:01:05\", \"iteration\": \"5\", \"goal\": \"accuracy_max\", \"run_name\": \"MinMaxScaler, SVM\", \"run_properties\": \"copy=True, feature_range=(0, 1\", \"primary_metric\": 0.76768362, \"best_metric\": 0.81497175}, {\"run_id\": \"AutoML_7afbb833-3ef3-43b9-aae0-8d2ef144c9ad_6\", \"run_number\": 11, \"metric\": null, \"status\": \"Completed\", \"run_type\": \"azureml.scriptrun\", \"training_percent\": \"100\", \"start_time\": \"2021-01-10T11:12:46.33987Z\", \"end_time\": \"2021-01-10T11:13:29.292929Z\", \"created_time\": \"2021-01-10T11:12:30.656693Z\", \"created_time_dt\": \"2021-01-10T11:12:30.656693Z\", \"duration\": \"0:00:58\", \"iteration\": \"6\", \"goal\": \"accuracy_max\", \"run_name\": \"MaxAbsScaler, GradientBoosting\", \"run_properties\": \"copy=True\", \"primary_metric\": 0.81163842, \"best_metric\": 0.81497175}, {\"run_id\": \"AutoML_7afbb833-3ef3-43b9-aae0-8d2ef144c9ad_7\", \"run_number\": 12, \"metric\": null, \"status\": \"Completed\", \"run_type\": \"azureml.scriptrun\", \"training_percent\": \"100\", \"start_time\": \"2021-01-10T11:13:49.759603Z\", \"end_time\": \"2021-01-10T11:14:39.049199Z\", \"created_time\": \"2021-01-10T11:13:32.731783Z\", \"created_time_dt\": \"2021-01-10T11:13:32.731783Z\", \"duration\": \"0:01:06\", \"iteration\": \"7\", \"goal\": \"accuracy_max\", \"run_name\": \"StandardScalerWrapper, RandomForest\", \"run_properties\": \"<azureml.automl.runtime.shared.model_wrappers.StandardScalerWrapper object at 0x7f4ad950a518\", \"primary_metric\": 0.81474576, \"best_metric\": 0.81497175}, {\"run_id\": \"AutoML_7afbb833-3ef3-43b9-aae0-8d2ef144c9ad_8\", \"run_number\": 13, \"metric\": null, \"status\": \"Completed\", \"run_type\": \"azureml.scriptrun\", \"training_percent\": \"100\", \"start_time\": \"2021-01-10T11:14:55.745333Z\", \"end_time\": \"2021-01-10T11:15:43.283753Z\", \"created_time\": \"2021-01-10T11:14:42.883888Z\", \"created_time_dt\": \"2021-01-10T11:14:42.883888Z\", \"duration\": \"0:01:00\", \"iteration\": \"8\", \"goal\": \"accuracy_max\", \"run_name\": \"SparseNormalizer, XGBoostClassifier\", \"run_properties\": \"<azureml.automl.runtime.shared.model_wrappers.SparseNormalizer object at 0x7fd96b7b2358\", \"primary_metric\": 0.80169492, \"best_metric\": 0.81497175}, {\"run_id\": \"AutoML_7afbb833-3ef3-43b9-aae0-8d2ef144c9ad_9\", \"run_number\": 14, \"metric\": null, \"status\": \"Completed\", \"run_type\": \"azureml.scriptrun\", \"training_percent\": \"100\", \"start_time\": \"2021-01-10T11:15:58.417907Z\", \"end_time\": \"2021-01-10T11:16:38.308402Z\", \"created_time\": \"2021-01-10T11:15:46.765992Z\", \"created_time_dt\": \"2021-01-10T11:15:46.765992Z\", \"duration\": \"0:00:51\", \"iteration\": \"9\", \"goal\": \"accuracy_max\", \"run_name\": \"SparseNormalizer, LightGBM\", \"run_properties\": \"<azureml.automl.runtime.shared.model_wrappers.SparseNormalizer object at 0x7fcf0c063550\", \"primary_metric\": 0.82508475, \"best_metric\": 0.82508475}, {\"run_id\": \"AutoML_7afbb833-3ef3-43b9-aae0-8d2ef144c9ad_10\", \"run_number\": 15, \"metric\": null, \"status\": \"Completed\", \"run_type\": \"azureml.scriptrun\", \"training_percent\": \"100\", \"start_time\": \"2021-01-10T11:16:54.545814Z\", \"end_time\": \"2021-01-10T11:17:40.174492Z\", \"created_time\": \"2021-01-10T11:16:41.390493Z\", \"created_time_dt\": \"2021-01-10T11:16:41.390493Z\", \"duration\": \"0:00:58\", \"iteration\": \"10\", \"goal\": \"accuracy_max\", \"run_name\": \"MaxAbsScaler, LightGBM\", \"run_properties\": \"copy=True\", \"primary_metric\": 0.78785311, \"best_metric\": 0.82508475}, {\"run_id\": \"AutoML_7afbb833-3ef3-43b9-aae0-8d2ef144c9ad_11\", \"run_number\": 16, \"metric\": null, \"status\": \"Completed\", \"run_type\": \"azureml.scriptrun\", \"training_percent\": \"100\", \"start_time\": \"2021-01-10T11:17:56.958874Z\", \"end_time\": \"2021-01-10T11:18:44.539388Z\", \"created_time\": \"2021-01-10T11:17:43.827274Z\", \"created_time_dt\": \"2021-01-10T11:17:43.827274Z\", \"duration\": \"0:01:00\", \"iteration\": \"11\", \"goal\": \"accuracy_max\", \"run_name\": \"SparseNormalizer, XGBoostClassifier\", \"run_properties\": \"<azureml.automl.runtime.shared.model_wrappers.SparseNormalizer object at 0x7ff7e3663ac8\", \"primary_metric\": 0.82502825, \"best_metric\": 0.82508475}, {\"run_id\": \"AutoML_7afbb833-3ef3-43b9-aae0-8d2ef144c9ad_12\", \"run_number\": 17, \"metric\": null, \"status\": \"Completed\", \"run_type\": \"azureml.scriptrun\", \"training_percent\": \"100\", \"start_time\": \"2021-01-10T11:19:02.544221Z\", \"end_time\": \"2021-01-10T11:19:40.912547Z\", \"created_time\": \"2021-01-10T11:18:48.112043Z\", \"created_time_dt\": \"2021-01-10T11:18:48.112043Z\", \"duration\": \"0:00:52\", \"iteration\": \"12\", \"goal\": \"accuracy_max\", \"run_name\": \"MaxAbsScaler, LightGBM\", \"run_properties\": \"copy=True\", \"primary_metric\": 0.82163842, \"best_metric\": 0.82508475}, {\"run_id\": \"AutoML_7afbb833-3ef3-43b9-aae0-8d2ef144c9ad_13\", \"run_number\": 18, \"metric\": null, \"status\": \"Completed\", \"run_type\": \"azureml.scriptrun\", \"training_percent\": \"100\", \"start_time\": \"2021-01-10T11:19:56.804866Z\", \"end_time\": \"2021-01-10T11:20:42.416868Z\", \"created_time\": \"2021-01-10T11:19:43.901912Z\", \"created_time_dt\": \"2021-01-10T11:19:43.901912Z\", \"duration\": \"0:00:58\", \"iteration\": \"13\", \"goal\": \"accuracy_max\", \"run_name\": \"SparseNormalizer, XGBoostClassifier\", \"run_properties\": \"<azureml.automl.runtime.shared.model_wrappers.SparseNormalizer object at 0x7f6374643710\", \"primary_metric\": 0.7980791, \"best_metric\": 0.82508475}, {\"run_id\": \"AutoML_7afbb833-3ef3-43b9-aae0-8d2ef144c9ad_14\", \"run_number\": 19, \"metric\": null, \"status\": \"Completed\", \"run_type\": \"azureml.scriptrun\", \"training_percent\": \"100\", \"start_time\": \"2021-01-10T11:20:58.785789Z\", \"end_time\": \"2021-01-10T11:21:38.450114Z\", \"created_time\": \"2021-01-10T11:20:45.812457Z\", \"created_time_dt\": \"2021-01-10T11:20:45.812457Z\", \"duration\": \"0:00:52\", \"iteration\": \"14\", \"goal\": \"accuracy_max\", \"run_name\": \"StandardScalerWrapper, ExtremeRandomTrees\", \"run_properties\": \"<azureml.automl.runtime.shared.model_wrappers.StandardScalerWrapper object at 0x7fabfe712da0\", \"primary_metric\": 0.81186441, \"best_metric\": 0.82508475}, {\"run_id\": \"AutoML_7afbb833-3ef3-43b9-aae0-8d2ef144c9ad_15\", \"run_number\": 20, \"metric\": null, \"status\": \"Completed\", \"run_type\": \"azureml.scriptrun\", \"training_percent\": \"100\", \"start_time\": \"2021-01-10T11:21:55.580749Z\", \"end_time\": \"2021-01-10T11:22:41.126229Z\", \"created_time\": \"2021-01-10T11:21:41.712739Z\", \"created_time_dt\": \"2021-01-10T11:21:41.712739Z\", \"duration\": \"0:00:59\", \"iteration\": \"15\", \"goal\": \"accuracy_max\", \"run_name\": \"SparseNormalizer, XGBoostClassifier\", \"run_properties\": \"<azureml.automl.runtime.shared.model_wrappers.SparseNormalizer object at 0x7fcbb4ea1160\", \"primary_metric\": 0.82186441, \"best_metric\": 0.82508475}, {\"run_id\": \"AutoML_7afbb833-3ef3-43b9-aae0-8d2ef144c9ad_16\", \"run_number\": 21, \"metric\": null, \"status\": \"Completed\", \"run_type\": \"azureml.scriptrun\", \"training_percent\": \"100\", \"start_time\": \"2021-01-10T11:22:57.868902Z\", \"end_time\": \"2021-01-10T11:23:47.139788Z\", \"created_time\": \"2021-01-10T11:22:44.721483Z\", \"created_time_dt\": \"2021-01-10T11:22:44.721483Z\", \"duration\": \"0:01:02\", \"iteration\": \"16\", \"goal\": \"accuracy_max\", \"run_name\": \"TruncatedSVDWrapper, XGBoostClassifier\", \"run_properties\": \"n_components=0.6036842105263158, random_state=None\", \"primary_metric\": 0.75096045, \"best_metric\": 0.82508475}, {\"run_id\": \"AutoML_7afbb833-3ef3-43b9-aae0-8d2ef144c9ad_17\", \"run_number\": 22, \"metric\": null, \"status\": \"Completed\", \"run_type\": \"azureml.scriptrun\", \"training_percent\": \"100\", \"start_time\": \"2021-01-10T11:24:19.394717Z\", \"end_time\": \"2021-01-10T11:24:47.950491Z\", \"created_time\": \"2021-01-10T11:23:50.059966Z\", \"created_time_dt\": \"2021-01-10T11:23:50.059966Z\", \"duration\": \"0:00:57\", \"iteration\": \"17\", \"goal\": \"accuracy_max\", \"run_name\": \"StandardScalerWrapper, LightGBM\", \"run_properties\": \"<azureml.automl.runtime.shared.model_wrappers.StandardScalerWrapper object at 0x7f00e8af9e48\", \"primary_metric\": 0.80497175, \"best_metric\": 0.82508475}, {\"run_id\": \"AutoML_7afbb833-3ef3-43b9-aae0-8d2ef144c9ad_18\", \"run_number\": 23, \"metric\": null, \"status\": \"Completed\", \"run_type\": \"azureml.scriptrun\", \"training_percent\": \"100\", \"start_time\": \"2021-01-10T11:25:02.658857Z\", \"end_time\": \"2021-01-10T11:25:45.372926Z\", \"created_time\": \"2021-01-10T11:24:50.041815Z\", \"created_time_dt\": \"2021-01-10T11:24:50.041815Z\", \"duration\": \"0:00:55\", \"iteration\": \"18\", \"goal\": \"accuracy_max\", \"run_name\": \"MaxAbsScaler, ExtremeRandomTrees\", \"run_properties\": \"copy=True\", \"primary_metric\": 0.81864407, \"best_metric\": 0.82508475}, {\"run_id\": \"AutoML_7afbb833-3ef3-43b9-aae0-8d2ef144c9ad_19\", \"run_number\": 24, \"metric\": null, \"status\": \"Completed\", \"run_type\": \"azureml.scriptrun\", \"training_percent\": \"100\", \"start_time\": \"2021-01-10T11:26:03.074811Z\", \"end_time\": \"2021-01-10T11:26:52.793943Z\", \"created_time\": \"2021-01-10T11:25:47.157407Z\", \"created_time_dt\": \"2021-01-10T11:25:47.157407Z\", \"duration\": \"0:01:05\", \"iteration\": \"19\", \"goal\": \"accuracy_max\", \"run_name\": \"StandardScalerWrapper, XGBoostClassifier\", \"run_properties\": \"<azureml.automl.runtime.shared.model_wrappers.StandardScalerWrapper object at 0x7f37d856a5c0\", \"primary_metric\": 0.81169492, \"best_metric\": 0.82508475}, {\"run_id\": \"AutoML_7afbb833-3ef3-43b9-aae0-8d2ef144c9ad_20\", \"run_number\": 25, \"metric\": null, \"status\": \"Completed\", \"run_type\": \"azureml.scriptrun\", \"training_percent\": \"100\", \"start_time\": \"2021-01-10T11:27:06.840009Z\", \"end_time\": \"2021-01-10T11:27:51.973302Z\", \"created_time\": \"2021-01-10T11:26:55.157137Z\", \"created_time_dt\": \"2021-01-10T11:26:55.157137Z\", \"duration\": \"0:00:56\", \"iteration\": \"20\", \"goal\": \"accuracy_max\", \"run_name\": \"SparseNormalizer, XGBoostClassifier\", \"run_properties\": \"<azureml.automl.runtime.shared.model_wrappers.SparseNormalizer object at 0x7ffb9809f080\", \"primary_metric\": 0.8419209, \"best_metric\": 0.8419209}, {\"run_id\": \"AutoML_7afbb833-3ef3-43b9-aae0-8d2ef144c9ad_21\", \"run_number\": 26, \"metric\": null, \"status\": \"Completed\", \"run_type\": \"azureml.scriptrun\", \"training_percent\": \"100\", \"start_time\": \"2021-01-10T11:28:13.528397Z\", \"end_time\": \"2021-01-10T11:28:56.76263Z\", \"created_time\": \"2021-01-10T11:27:59.555452Z\", \"created_time_dt\": \"2021-01-10T11:27:59.555452Z\", \"duration\": \"0:00:57\", \"iteration\": \"21\", \"goal\": \"accuracy_max\", \"run_name\": \"StandardScalerWrapper, XGBoostClassifier\", \"run_properties\": \"<azureml.automl.runtime.shared.model_wrappers.StandardScalerWrapper object at 0x7f5d7a368dd8\", \"primary_metric\": 0.80502825, \"best_metric\": 0.8419209}, {\"run_id\": \"AutoML_7afbb833-3ef3-43b9-aae0-8d2ef144c9ad_22\", \"run_number\": 27, \"metric\": null, \"status\": \"Completed\", \"run_type\": \"azureml.scriptrun\", \"training_percent\": \"100\", \"start_time\": \"2021-01-10T11:29:13.61662Z\", \"end_time\": \"2021-01-10T11:29:52.608099Z\", \"created_time\": \"2021-01-10T11:28:59.046293Z\", \"created_time_dt\": \"2021-01-10T11:28:59.046293Z\", \"duration\": \"0:00:53\", \"iteration\": \"22\", \"goal\": \"accuracy_max\", \"run_name\": \"StandardScalerWrapper, RandomForest\", \"run_properties\": \"<azureml.automl.runtime.shared.model_wrappers.StandardScalerWrapper object at 0x7f21c455d908\", \"primary_metric\": 0.82169492, \"best_metric\": 0.8419209}, {\"run_id\": \"AutoML_7afbb833-3ef3-43b9-aae0-8d2ef144c9ad_23\", \"run_number\": 28, \"metric\": null, \"status\": \"Completed\", \"run_type\": \"azureml.scriptrun\", \"training_percent\": \"100\", \"start_time\": \"2021-01-10T11:30:09.410017Z\", \"end_time\": \"2021-01-10T11:31:27.106081Z\", \"created_time\": \"2021-01-10T11:29:54.431735Z\", \"created_time_dt\": \"2021-01-10T11:29:54.431735Z\", \"duration\": \"0:01:32\", \"iteration\": \"23\", \"goal\": \"accuracy_max\", \"run_name\": \"StandardScalerWrapper, XGBoostClassifier\", \"run_properties\": \"<azureml.automl.runtime.shared.model_wrappers.StandardScalerWrapper object at 0x7fac084add30\", \"primary_metric\": 0.7980791, \"best_metric\": 0.8419209}, {\"run_id\": \"AutoML_7afbb833-3ef3-43b9-aae0-8d2ef144c9ad_24\", \"run_number\": 29, \"metric\": null, \"status\": \"Completed\", \"run_type\": \"azureml.scriptrun\", \"training_percent\": \"100\", \"start_time\": \"2021-01-10T11:31:43.249691Z\", \"end_time\": \"2021-01-10T11:32:27.915397Z\", \"created_time\": \"2021-01-10T11:31:30.589454Z\", \"created_time_dt\": \"2021-01-10T11:31:30.589454Z\", \"duration\": \"0:00:57\", \"iteration\": \"24\", \"goal\": \"accuracy_max\", \"run_name\": \"MaxAbsScaler, LightGBM\", \"run_properties\": \"copy=True\", \"primary_metric\": 0.81169492, \"best_metric\": 0.8419209}, {\"run_id\": \"AutoML_7afbb833-3ef3-43b9-aae0-8d2ef144c9ad_25\", \"run_number\": 30, \"metric\": null, \"status\": \"Completed\", \"run_type\": \"azureml.scriptrun\", \"training_percent\": \"100\", \"start_time\": \"2021-01-10T11:32:44.65238Z\", \"end_time\": \"2021-01-10T11:33:32.017931Z\", \"created_time\": \"2021-01-10T11:32:31.517625Z\", \"created_time_dt\": \"2021-01-10T11:32:31.517625Z\", \"duration\": \"0:01:00\", \"iteration\": \"25\", \"goal\": \"accuracy_max\", \"run_name\": \"SparseNormalizer, XGBoostClassifier\", \"run_properties\": \"<azureml.automl.runtime.shared.model_wrappers.SparseNormalizer object at 0x7f42db1725f8\", \"primary_metric\": 0.53875706, \"best_metric\": 0.8419209}, {\"run_id\": \"AutoML_7afbb833-3ef3-43b9-aae0-8d2ef144c9ad_26\", \"run_number\": 31, \"metric\": null, \"status\": \"Completed\", \"run_type\": \"azureml.scriptrun\", \"training_percent\": \"100\", \"start_time\": \"2021-01-10T11:33:46.60853Z\", \"end_time\": \"2021-01-10T11:34:28.486982Z\", \"created_time\": \"2021-01-10T11:33:35.176887Z\", \"created_time_dt\": \"2021-01-10T11:33:35.176887Z\", \"duration\": \"0:00:53\", \"iteration\": \"26\", \"goal\": \"accuracy_max\", \"run_name\": \"RobustScaler, ExtremeRandomTrees\", \"run_properties\": \"copy=True, quantile_range=[10, 90], with_centering=False,\\n             with_scaling=False\", \"primary_metric\": 0.81175141, \"best_metric\": 0.8419209}, {\"run_id\": \"AutoML_7afbb833-3ef3-43b9-aae0-8d2ef144c9ad_27\", \"run_number\": 32, \"metric\": null, \"status\": \"Completed\", \"run_type\": \"azureml.scriptrun\", \"training_percent\": \"100\", \"start_time\": \"2021-01-10T11:34:40.735141Z\", \"end_time\": \"2021-01-10T11:35:52.793785Z\", \"created_time\": \"2021-01-10T11:34:29.849316Z\", \"created_time_dt\": \"2021-01-10T11:34:29.849316Z\", \"duration\": \"0:01:22\", \"iteration\": \"27\", \"goal\": \"accuracy_max\", \"run_name\": \"VotingEnsemble\", \"run_properties\": \"classification_labels=None,\\n                              estimators=[('20',\\n                                           Pipeline(memory=None,\\n                                                    steps=[('sparsenormalizer',\\n                                                            <azureml.automl.runtime.shared.model_wrappers.SparseNormalizer object at 0x7f2db40e36a0>\", \"primary_metric\": 0.84870056, \"best_metric\": 0.84870056}, {\"run_id\": \"AutoML_7afbb833-3ef3-43b9-aae0-8d2ef144c9ad_28\", \"run_number\": 33, \"metric\": null, \"status\": \"Completed\", \"run_type\": \"azureml.scriptrun\", \"training_percent\": \"100\", \"start_time\": \"2021-01-10T11:36:06.575027Z\", \"end_time\": \"2021-01-10T11:37:23.52159Z\", \"created_time\": \"2021-01-10T11:35:54.254188Z\", \"created_time_dt\": \"2021-01-10T11:35:54.254188Z\", \"duration\": \"0:01:29\", \"iteration\": \"28\", \"goal\": \"accuracy_max\", \"run_name\": \"StackEnsemble\", \"run_properties\": \"base_learners=[('20',\\n                                        Pipeline(memory=None,\\n                                                 steps=[('sparsenormalizer',\\n                                                         <azureml.automl.runtime.shared.model_wrappers.SparseNormalizer object at 0x7fa274b4b5f8>\", \"primary_metric\": 0.83519774, \"best_metric\": 0.84870056}], \"children_metrics\": {\"categories\": [0], \"series\": {\"balanced_accuracy\": [{\"categories\": [\"0\", \"1\", \"2\", \"3\", \"4\", \"5\", \"6\", \"7\", \"8\", \"9\", \"10\", \"11\", \"12\", \"13\", \"14\", \"15\", \"16\", \"17\", \"18\", \"19\", \"20\", \"21\", \"22\", \"23\", \"24\", \"25\", \"26\", \"27\", \"28\"], \"mode\": \"markers\", \"name\": \"balanced_accuracy\", \"stepped\": false, \"type\": \"scatter\", \"data\": [0.7954369744768435, 0.8078953932510515, 0.7948378974030282, 0.8124913394710245, 0.7970313032443469, 0.7649569383340825, 0.8064357527846198, 0.8092737519296269, 0.8012445443222329, 0.8221171851044223, 0.7851843623508046, 0.8213977837088311, 0.8171149673658309, 0.7969659715462069, 0.8048880355290986, 0.8190882697975373, 0.7444322331542049, 0.8006504393138665, 0.811669644724501, 0.805546705157969, 0.8390367783032147, 0.8001194400986569, 0.8165649334175769, 0.79194931914679, 0.8067916062670466, 0.5, 0.8105439857494773, 0.8423458650558938, 0.8292904993689492]}, {\"categories\": [\"0\", \"1\", \"2\", \"3\", \"4\", \"5\", \"6\", \"7\", \"8\", \"9\", \"10\", \"11\", \"12\", \"13\", \"14\", \"15\", \"16\", \"17\", \"18\", \"19\", \"20\", \"21\", \"22\", \"23\", \"24\", \"25\", \"26\", \"27\", \"28\"], \"mode\": \"lines\", \"name\": \"balanced_accuracy_max\", \"stepped\": true, \"type\": \"scatter\", \"data\": [0.7954369744768435, 0.8078953932510515, 0.8078953932510515, 0.8124913394710245, 0.8124913394710245, 0.8124913394710245, 0.8124913394710245, 0.8124913394710245, 0.8124913394710245, 0.8221171851044223, 0.8221171851044223, 0.8221171851044223, 0.8221171851044223, 0.8221171851044223, 0.8221171851044223, 0.8221171851044223, 0.8221171851044223, 0.8221171851044223, 0.8221171851044223, 0.8221171851044223, 0.8390367783032147, 0.8390367783032147, 0.8390367783032147, 0.8390367783032147, 0.8390367783032147, 0.8390367783032147, 0.8390367783032147, 0.8423458650558938, 0.8423458650558938]}], \"precision_score_weighted\": [{\"categories\": [\"0\", \"1\", \"2\", \"3\", \"4\", \"5\", \"6\", \"7\", \"8\", \"9\", \"10\", \"11\", \"12\", \"13\", \"14\", \"15\", \"16\", \"17\", \"18\", \"19\", \"20\", \"21\", \"22\", \"23\", \"24\", \"25\", \"26\", \"27\", \"28\"], \"mode\": \"markers\", \"name\": \"precision_score_weighted\", \"stepped\": false, \"type\": \"scatter\", \"data\": [0.8008099584561069, 0.812163713248459, 0.803737285788824, 0.8201933542466705, 0.8027154860205707, 0.7729941136340042, 0.811715873015873, 0.8186780301008669, 0.8057818311578521, 0.8280732767412944, 0.7930663635603576, 0.8279069445335461, 0.8223575290188091, 0.8036576368479853, 0.8127409875210008, 0.824467617914582, 0.7566665117586268, 0.8069205284094989, 0.8194056662865192, 0.8121813809265106, 0.8448158897263898, 0.8082203795924213, 0.8220636259509124, 0.8003929156372342, 0.8139567320677366, 0.2936073605924224, 0.8145306702320898, 0.8507473397563251, 0.8366688414310361]}, {\"categories\": [\"0\", \"1\", \"2\", \"3\", \"4\", \"5\", \"6\", \"7\", \"8\", \"9\", \"10\", \"11\", \"12\", \"13\", \"14\", \"15\", \"16\", \"17\", \"18\", \"19\", \"20\", \"21\", \"22\", \"23\", \"24\", \"25\", \"26\", \"27\", \"28\"], \"mode\": \"lines\", \"name\": \"precision_score_weighted_max\", \"stepped\": true, \"type\": \"scatter\", \"data\": [0.8008099584561069, 0.812163713248459, 0.812163713248459, 0.8201933542466705, 0.8201933542466705, 0.8201933542466705, 0.8201933542466705, 0.8201933542466705, 0.8201933542466705, 0.8280732767412944, 0.8280732767412944, 0.8280732767412944, 0.8280732767412944, 0.8280732767412944, 0.8280732767412944, 0.8280732767412944, 0.8280732767412944, 0.8280732767412944, 0.8280732767412944, 0.8280732767412944, 0.8448158897263898, 0.8448158897263898, 0.8448158897263898, 0.8448158897263898, 0.8448158897263898, 0.8448158897263898, 0.8448158897263898, 0.8507473397563251, 0.8507473397563251]}], \"average_precision_score_micro\": [{\"categories\": [\"0\", \"1\", \"2\", \"3\", \"4\", \"5\", \"6\", \"7\", \"8\", \"9\", \"10\", \"11\", \"12\", \"13\", \"14\", \"15\", \"16\", \"17\", \"18\", \"19\", \"20\", \"21\", \"22\", \"23\", \"24\", \"25\", \"26\", \"27\", \"28\"], \"mode\": \"markers\", \"name\": \"average_precision_score_micro\", \"stepped\": false, \"type\": \"scatter\", \"data\": [0.8861390040194583, 0.8855801371491745, 0.8863635124279522, 0.8948475225907988, 0.9065451225842521, 0.8338125342157827, 0.9041302841797719, 0.9092309831144719, 0.8588857376489027, 0.9035445739864565, 0.8631108833911636, 0.8905708076320881, 0.9007728694222201, 0.859947215020464, 0.8942511069810047, 0.8850799052255052, 0.8293625052188766, 0.8965693785827868, 0.9046509270173129, 0.9014044704800452, 0.8933760655449008, 0.8860801246782882, 0.9137462177149922, 0.8807477589755089, 0.8978414180246878, 0.524228829518976, 0.902850834320452, 0.9087565196290919, 0.902975495080238]}, {\"categories\": [\"0\", \"1\", \"2\", \"3\", \"4\", \"5\", \"6\", \"7\", \"8\", \"9\", \"10\", \"11\", \"12\", \"13\", \"14\", \"15\", \"16\", \"17\", \"18\", \"19\", \"20\", \"21\", \"22\", \"23\", \"24\", \"25\", \"26\", \"27\", \"28\"], \"mode\": \"lines\", \"name\": \"average_precision_score_micro_max\", \"stepped\": true, \"type\": \"scatter\", \"data\": [0.8861390040194583, 0.8861390040194583, 0.8863635124279522, 0.8948475225907988, 0.9065451225842521, 0.9065451225842521, 0.9065451225842521, 0.9092309831144719, 0.9092309831144719, 0.9092309831144719, 0.9092309831144719, 0.9092309831144719, 0.9092309831144719, 0.9092309831144719, 0.9092309831144719, 0.9092309831144719, 0.9092309831144719, 0.9092309831144719, 0.9092309831144719, 0.9092309831144719, 0.9092309831144719, 0.9092309831144719, 0.9137462177149922, 0.9137462177149922, 0.9137462177149922, 0.9137462177149922, 0.9137462177149922, 0.9137462177149922, 0.9137462177149922]}], \"AUC_weighted\": [{\"categories\": [\"0\", \"1\", \"2\", \"3\", \"4\", \"5\", \"6\", \"7\", \"8\", \"9\", \"10\", \"11\", \"12\", \"13\", \"14\", \"15\", \"16\", \"17\", \"18\", \"19\", \"20\", \"21\", \"22\", \"23\", \"24\", \"25\", \"26\", \"27\", \"28\"], \"mode\": \"markers\", \"name\": \"AUC_weighted\", \"stepped\": false, \"type\": \"scatter\", \"data\": [0.883087820336225, 0.8844891115103632, 0.8808101406161628, 0.8874659125651456, 0.8987013020804954, 0.8378989252624676, 0.8983582167517534, 0.9008008973869679, 0.8713487762995014, 0.896210418237817, 0.8679506055694024, 0.8856422376751008, 0.8926344887172707, 0.8659650332277813, 0.891189785567164, 0.8866563233212336, 0.8282535910980773, 0.8890237809742914, 0.8987855923858892, 0.896566072441509, 0.8893254877586397, 0.884912788144449, 0.906051136519103, 0.8734539541796142, 0.8907470351515393, 0.5, 0.8941909342030334, 0.9002442263679896, 0.8937429007889364]}, {\"categories\": [\"0\", \"1\", \"2\", \"3\", \"4\", \"5\", \"6\", \"7\", \"8\", \"9\", \"10\", \"11\", \"12\", \"13\", \"14\", \"15\", \"16\", \"17\", \"18\", \"19\", \"20\", \"21\", \"22\", \"23\", \"24\", \"25\", \"26\", \"27\", \"28\"], \"mode\": \"lines\", \"name\": \"AUC_weighted_max\", \"stepped\": true, \"type\": \"scatter\", \"data\": [0.883087820336225, 0.8844891115103632, 0.8844891115103632, 0.8874659125651456, 0.8987013020804954, 0.8987013020804954, 0.8987013020804954, 0.9008008973869679, 0.9008008973869679, 0.9008008973869679, 0.9008008973869679, 0.9008008973869679, 0.9008008973869679, 0.9008008973869679, 0.9008008973869679, 0.9008008973869679, 0.9008008973869679, 0.9008008973869679, 0.9008008973869679, 0.9008008973869679, 0.9008008973869679, 0.9008008973869679, 0.906051136519103, 0.906051136519103, 0.906051136519103, 0.906051136519103, 0.906051136519103, 0.906051136519103, 0.906051136519103]}], \"recall_score_macro\": [{\"categories\": [\"0\", \"1\", \"2\", \"3\", \"4\", \"5\", \"6\", \"7\", \"8\", \"9\", \"10\", \"11\", \"12\", \"13\", \"14\", \"15\", \"16\", \"17\", \"18\", \"19\", \"20\", \"21\", \"22\", \"23\", \"24\", \"25\", \"26\", \"27\", \"28\"], \"mode\": \"markers\", \"name\": \"recall_score_macro\", \"stepped\": false, \"type\": \"scatter\", \"data\": [0.7954369744768435, 0.8078953932510515, 0.7948378974030282, 0.8124913394710245, 0.7970313032443469, 0.7649569383340825, 0.8064357527846198, 0.8092737519296269, 0.8012445443222329, 0.8221171851044223, 0.7851843623508046, 0.8213977837088311, 0.8171149673658309, 0.7969659715462069, 0.8048880355290986, 0.8190882697975373, 0.7444322331542049, 0.8006504393138665, 0.811669644724501, 0.805546705157969, 0.8390367783032147, 0.8001194400986569, 0.8165649334175769, 0.79194931914679, 0.8067916062670466, 0.5, 0.8105439857494773, 0.8423458650558938, 0.8292904993689492]}, {\"categories\": [\"0\", \"1\", \"2\", \"3\", \"4\", \"5\", \"6\", \"7\", \"8\", \"9\", \"10\", \"11\", \"12\", \"13\", \"14\", \"15\", \"16\", \"17\", \"18\", \"19\", \"20\", \"21\", \"22\", \"23\", \"24\", \"25\", \"26\", \"27\", \"28\"], \"mode\": \"lines\", \"name\": \"recall_score_macro_max\", \"stepped\": true, \"type\": \"scatter\", \"data\": [0.7954369744768435, 0.8078953932510515, 0.8078953932510515, 0.8124913394710245, 0.8124913394710245, 0.8124913394710245, 0.8124913394710245, 0.8124913394710245, 0.8124913394710245, 0.8221171851044223, 0.8221171851044223, 0.8221171851044223, 0.8221171851044223, 0.8221171851044223, 0.8221171851044223, 0.8221171851044223, 0.8221171851044223, 0.8221171851044223, 0.8221171851044223, 0.8221171851044223, 0.8390367783032147, 0.8390367783032147, 0.8390367783032147, 0.8390367783032147, 0.8390367783032147, 0.8390367783032147, 0.8390367783032147, 0.8423458650558938, 0.8423458650558938]}], \"precision_score_micro\": [{\"categories\": [\"0\", \"1\", \"2\", \"3\", \"4\", \"5\", \"6\", \"7\", \"8\", \"9\", \"10\", \"11\", \"12\", \"13\", \"14\", \"15\", \"16\", \"17\", \"18\", \"19\", \"20\", \"21\", \"22\", \"23\", \"24\", \"25\", \"26\", \"27\", \"28\"], \"mode\": \"markers\", \"name\": \"precision_score_micro\", \"stepped\": false, \"type\": \"scatter\", \"data\": [0.7979661016949152, 0.8081920903954802, 0.7945762711864407, 0.8149717514124294, 0.8015819209039549, 0.7676836158192091, 0.8116384180790961, 0.8147457627118644, 0.8016949152542374, 0.8250847457627118, 0.7878531073446328, 0.8250282485875706, 0.8216384180790961, 0.7980790960451978, 0.8118644067796611, 0.821864406779661, 0.7509604519774011, 0.8049717514124293, 0.8186440677966103, 0.8116949152542373, 0.8419209039548022, 0.8050282485875705, 0.8216949152542373, 0.7980790960451978, 0.8116949152542372, 0.5387570621468927, 0.8117514124293785, 0.8487005649717514, 0.8351977401129943]}, {\"categories\": [\"0\", \"1\", \"2\", \"3\", \"4\", \"5\", \"6\", \"7\", \"8\", \"9\", \"10\", \"11\", \"12\", \"13\", \"14\", \"15\", \"16\", \"17\", \"18\", \"19\", \"20\", \"21\", \"22\", \"23\", \"24\", \"25\", \"26\", \"27\", \"28\"], \"mode\": \"lines\", \"name\": \"precision_score_micro_max\", \"stepped\": true, \"type\": \"scatter\", \"data\": [0.7979661016949152, 0.8081920903954802, 0.8081920903954802, 0.8149717514124294, 0.8149717514124294, 0.8149717514124294, 0.8149717514124294, 0.8149717514124294, 0.8149717514124294, 0.8250847457627118, 0.8250847457627118, 0.8250847457627118, 0.8250847457627118, 0.8250847457627118, 0.8250847457627118, 0.8250847457627118, 0.8250847457627118, 0.8250847457627118, 0.8250847457627118, 0.8250847457627118, 0.8419209039548022, 0.8419209039548022, 0.8419209039548022, 0.8419209039548022, 0.8419209039548022, 0.8419209039548022, 0.8419209039548022, 0.8487005649717514, 0.8487005649717514]}], \"matthews_correlation\": [{\"categories\": [\"0\", \"1\", \"2\", \"3\", \"4\", \"5\", \"6\", \"7\", \"8\", \"9\", \"10\", \"11\", \"12\", \"13\", \"14\", \"15\", \"16\", \"17\", \"18\", \"19\", \"20\", \"21\", \"22\", \"23\", \"24\", \"25\", \"26\", \"27\", \"28\"], \"mode\": \"markers\", \"name\": \"matthews_correlation\", \"stepped\": false, \"type\": \"scatter\", \"data\": [0.590016278858762, 0.613781866009001, 0.5913930908060252, 0.627097407027496, 0.5957081078852073, 0.5312053562849953, 0.6140807248454474, 0.6243427696644304, 0.600258281024175, 0.646217991680406, 0.5732519011658164, 0.6448523564205079, 0.6361349474469618, 0.5950108418389214, 0.6162428069237068, 0.6388558206421047, 0.49521188296075086, 0.604486425620997, 0.6296792447247457, 0.614671796885576, 0.6798072673002544, 0.6060761371068264, 0.6350686333880484, 0.5888037710755898, 0.6180047730287642, 0.0, 0.6192348038835573, 0.6919316663626404, 0.6627701486702497]}, {\"categories\": [\"0\", \"1\", \"2\", \"3\", \"4\", \"5\", \"6\", \"7\", \"8\", \"9\", \"10\", \"11\", \"12\", \"13\", \"14\", \"15\", \"16\", \"17\", \"18\", \"19\", \"20\", \"21\", \"22\", \"23\", \"24\", \"25\", \"26\", \"27\", \"28\"], \"mode\": \"lines\", \"name\": \"matthews_correlation_max\", \"stepped\": true, \"type\": \"scatter\", \"data\": [0.590016278858762, 0.613781866009001, 0.613781866009001, 0.627097407027496, 0.627097407027496, 0.627097407027496, 0.627097407027496, 0.627097407027496, 0.627097407027496, 0.646217991680406, 0.646217991680406, 0.646217991680406, 0.646217991680406, 0.646217991680406, 0.646217991680406, 0.646217991680406, 0.646217991680406, 0.646217991680406, 0.646217991680406, 0.646217991680406, 0.6798072673002544, 0.6798072673002544, 0.6798072673002544, 0.6798072673002544, 0.6798072673002544, 0.6798072673002544, 0.6798072673002544, 0.6919316663626404, 0.6919316663626404]}], \"accuracy\": [{\"categories\": [\"0\", \"1\", \"2\", \"3\", \"4\", \"5\", \"6\", \"7\", \"8\", \"9\", \"10\", \"11\", \"12\", \"13\", \"14\", \"15\", \"16\", \"17\", \"18\", \"19\", \"20\", \"21\", \"22\", \"23\", \"24\", \"25\", \"26\", \"27\", \"28\"], \"mode\": \"markers\", \"name\": \"accuracy\", \"stepped\": false, \"type\": \"scatter\", \"data\": [0.7979661016949152, 0.8081920903954802, 0.7945762711864407, 0.8149717514124294, 0.8015819209039549, 0.7676836158192091, 0.8116384180790961, 0.8147457627118644, 0.8016949152542374, 0.8250847457627118, 0.7878531073446328, 0.8250282485875706, 0.8216384180790961, 0.7980790960451978, 0.8118644067796611, 0.821864406779661, 0.7509604519774011, 0.8049717514124293, 0.8186440677966103, 0.8116949152542373, 0.8419209039548022, 0.8050282485875705, 0.8216949152542373, 0.7980790960451978, 0.8116949152542372, 0.5387570621468927, 0.8117514124293785, 0.8487005649717514, 0.8351977401129943]}, {\"categories\": [\"0\", \"1\", \"2\", \"3\", \"4\", \"5\", \"6\", \"7\", \"8\", \"9\", \"10\", \"11\", \"12\", \"13\", \"14\", \"15\", \"16\", \"17\", \"18\", \"19\", \"20\", \"21\", \"22\", \"23\", \"24\", \"25\", \"26\", \"27\", \"28\"], \"mode\": \"lines\", \"name\": \"accuracy_max\", \"stepped\": true, \"type\": \"scatter\", \"data\": [0.7979661016949152, 0.8081920903954802, 0.8081920903954802, 0.8149717514124294, 0.8149717514124294, 0.8149717514124294, 0.8149717514124294, 0.8149717514124294, 0.8149717514124294, 0.8250847457627118, 0.8250847457627118, 0.8250847457627118, 0.8250847457627118, 0.8250847457627118, 0.8250847457627118, 0.8250847457627118, 0.8250847457627118, 0.8250847457627118, 0.8250847457627118, 0.8250847457627118, 0.8419209039548022, 0.8419209039548022, 0.8419209039548022, 0.8419209039548022, 0.8419209039548022, 0.8419209039548022, 0.8419209039548022, 0.8487005649717514, 0.8487005649717514]}], \"f1_score_weighted\": [{\"categories\": [\"0\", \"1\", \"2\", \"3\", \"4\", \"5\", \"6\", \"7\", \"8\", \"9\", \"10\", \"11\", \"12\", \"13\", \"14\", \"15\", \"16\", \"17\", \"18\", \"19\", \"20\", \"21\", \"22\", \"23\", \"24\", \"25\", \"26\", \"27\", \"28\"], \"mode\": \"markers\", \"name\": \"f1_score_weighted\", \"stepped\": false, \"type\": \"scatter\", \"data\": [0.7981928062004235, 0.8085229036263117, 0.7945841293389517, 0.8147021422147219, 0.8013303547246042, 0.7675629835590679, 0.8113200608501803, 0.8137647974793687, 0.8012062794736832, 0.824472475545657, 0.7869902335651868, 0.8244633357213352, 0.821293388999778, 0.7976346938460598, 0.8109299636998599, 0.821383782948814, 0.7497056417287724, 0.8044742888296815, 0.8178004921812235, 0.8109457430416345, 0.8413613473320927, 0.8042434229831154, 0.8213497080717991, 0.7973280289306075, 0.8110207189142006, 0.37904678037318085, 0.8119881739708665, 0.8475155037179182, 0.8343113006449799]}, {\"categories\": [\"0\", \"1\", \"2\", \"3\", \"4\", \"5\", \"6\", \"7\", \"8\", \"9\", \"10\", \"11\", \"12\", \"13\", \"14\", \"15\", \"16\", \"17\", \"18\", \"19\", \"20\", \"21\", \"22\", \"23\", \"24\", \"25\", \"26\", \"27\", \"28\"], \"mode\": \"lines\", \"name\": \"f1_score_weighted_max\", \"stepped\": true, \"type\": \"scatter\", \"data\": [0.7981928062004235, 0.8085229036263117, 0.8085229036263117, 0.8147021422147219, 0.8147021422147219, 0.8147021422147219, 0.8147021422147219, 0.8147021422147219, 0.8147021422147219, 0.824472475545657, 0.824472475545657, 0.824472475545657, 0.824472475545657, 0.824472475545657, 0.824472475545657, 0.824472475545657, 0.824472475545657, 0.824472475545657, 0.824472475545657, 0.824472475545657, 0.8413613473320927, 0.8413613473320927, 0.8413613473320927, 0.8413613473320927, 0.8413613473320927, 0.8413613473320927, 0.8413613473320927, 0.8475155037179182, 0.8475155037179182]}], \"AUC_macro\": [{\"categories\": [\"0\", \"1\", \"2\", \"3\", \"4\", \"5\", \"6\", \"7\", \"8\", \"9\", \"10\", \"11\", \"12\", \"13\", \"14\", \"15\", \"16\", \"17\", \"18\", \"19\", \"20\", \"21\", \"22\", \"23\", \"24\", \"25\", \"26\", \"27\", \"28\"], \"mode\": \"markers\", \"name\": \"AUC_macro\", \"stepped\": false, \"type\": \"scatter\", \"data\": [0.883087820336225, 0.8844891115103632, 0.8808101406161629, 0.8874659125651456, 0.8987013020804954, 0.8378989252624673, 0.8983582167517534, 0.9008008973869677, 0.8713487762995014, 0.8962104182378171, 0.8679506055694024, 0.8856422376751008, 0.8926344887172707, 0.8659650332277813, 0.891189785567164, 0.8866563233212338, 0.8282535910980773, 0.8890237809742914, 0.898785592385889, 0.896566072441509, 0.8893254877586397, 0.884912788144449, 0.906051136519103, 0.8734539541796142, 0.8907470351515393, 0.5, 0.8941909342030334, 0.9002442263679896, 0.8937429007889364]}, {\"categories\": [\"0\", \"1\", \"2\", \"3\", \"4\", \"5\", \"6\", \"7\", \"8\", \"9\", \"10\", \"11\", \"12\", \"13\", \"14\", \"15\", \"16\", \"17\", \"18\", \"19\", \"20\", \"21\", \"22\", \"23\", \"24\", \"25\", \"26\", \"27\", \"28\"], \"mode\": \"lines\", \"name\": \"AUC_macro_max\", \"stepped\": true, \"type\": \"scatter\", \"data\": [0.883087820336225, 0.8844891115103632, 0.8844891115103632, 0.8874659125651456, 0.8987013020804954, 0.8987013020804954, 0.8987013020804954, 0.9008008973869677, 0.9008008973869677, 0.9008008973869677, 0.9008008973869677, 0.9008008973869677, 0.9008008973869677, 0.9008008973869677, 0.9008008973869677, 0.9008008973869677, 0.9008008973869677, 0.9008008973869677, 0.9008008973869677, 0.9008008973869677, 0.9008008973869677, 0.9008008973869677, 0.906051136519103, 0.906051136519103, 0.906051136519103, 0.906051136519103, 0.906051136519103, 0.906051136519103, 0.906051136519103]}], \"precision_score_macro\": [{\"categories\": [\"0\", \"1\", \"2\", \"3\", \"4\", \"5\", \"6\", \"7\", \"8\", \"9\", \"10\", \"11\", \"12\", \"13\", \"14\", \"15\", \"16\", \"17\", \"18\", \"19\", \"20\", \"21\", \"22\", \"23\", \"24\", \"25\", \"26\", \"27\", \"28\"], \"mode\": \"markers\", \"name\": \"precision_score_macro\", \"stepped\": false, \"type\": \"scatter\", \"data\": [0.7945979426701933, 0.8059302734302735, 0.7966959737347906, 0.814652851978939, 0.7986848309324672, 0.7663228669009603, 0.8076490536918864, 0.8151328203959783, 0.799125768615333, 0.824134606766426, 0.7881066706501489, 0.8234870926490843, 0.8190274084657025, 0.7980884787832847, 0.8114644649863567, 0.8198137584752242, 0.7508897847958156, 0.803848169804052, 0.8181147300357093, 0.8091450926149202, 0.8408037455469385, 0.8060088494674791, 0.8185130177181394, 0.7969071367935968, 0.8112354706840001, 0.26937853107344634, 0.8087351243246275, 0.849678259472402, 0.8335121964241881]}, {\"categories\": [\"0\", \"1\", \"2\", \"3\", \"4\", \"5\", \"6\", \"7\", \"8\", \"9\", \"10\", \"11\", \"12\", \"13\", \"14\", \"15\", \"16\", \"17\", \"18\", \"19\", \"20\", \"21\", \"22\", \"23\", \"24\", \"25\", \"26\", \"27\", \"28\"], \"mode\": \"lines\", \"name\": \"precision_score_macro_max\", \"stepped\": true, \"type\": \"scatter\", \"data\": [0.7945979426701933, 0.8059302734302735, 0.8059302734302735, 0.814652851978939, 0.814652851978939, 0.814652851978939, 0.814652851978939, 0.8151328203959783, 0.8151328203959783, 0.824134606766426, 0.824134606766426, 0.824134606766426, 0.824134606766426, 0.824134606766426, 0.824134606766426, 0.824134606766426, 0.824134606766426, 0.824134606766426, 0.824134606766426, 0.824134606766426, 0.8408037455469385, 0.8408037455469385, 0.8408037455469385, 0.8408037455469385, 0.8408037455469385, 0.8408037455469385, 0.8408037455469385, 0.849678259472402, 0.849678259472402]}], \"norm_macro_recall\": [{\"categories\": [\"0\", \"1\", \"2\", \"3\", \"4\", \"5\", \"6\", \"7\", \"8\", \"9\", \"10\", \"11\", \"12\", \"13\", \"14\", \"15\", \"16\", \"17\", \"18\", \"19\", \"20\", \"21\", \"22\", \"23\", \"24\", \"25\", \"26\", \"27\", \"28\"], \"mode\": \"markers\", \"name\": \"norm_macro_recall\", \"stepped\": false, \"type\": \"scatter\", \"data\": [0.5908739489536867, 0.6157907865021032, 0.5896757948060565, 0.624982678942049, 0.5940626064886939, 0.529913876668165, 0.6128715055692397, 0.6185475038592538, 0.6024890886444659, 0.6442343702088448, 0.5703687247016092, 0.6427955674176622, 0.6342299347316617, 0.5939319430924138, 0.6097760710581974, 0.6381765395950748, 0.4888644663084099, 0.6013008786277331, 0.623339289449002, 0.6110934103159382, 0.6780735566064294, 0.6002388801973135, 0.6331298668351535, 0.58389863829358, 0.6135832125340936, 0.0, 0.6210879714989544, 0.6846917301117875, 0.6585809987378982]}, {\"categories\": [\"0\", \"1\", \"2\", \"3\", \"4\", \"5\", \"6\", \"7\", \"8\", \"9\", \"10\", \"11\", \"12\", \"13\", \"14\", \"15\", \"16\", \"17\", \"18\", \"19\", \"20\", \"21\", \"22\", \"23\", \"24\", \"25\", \"26\", \"27\", \"28\"], \"mode\": \"lines\", \"name\": \"norm_macro_recall_max\", \"stepped\": true, \"type\": \"scatter\", \"data\": [0.5908739489536867, 0.6157907865021032, 0.6157907865021032, 0.624982678942049, 0.624982678942049, 0.624982678942049, 0.624982678942049, 0.624982678942049, 0.624982678942049, 0.6442343702088448, 0.6442343702088448, 0.6442343702088448, 0.6442343702088448, 0.6442343702088448, 0.6442343702088448, 0.6442343702088448, 0.6442343702088448, 0.6442343702088448, 0.6442343702088448, 0.6442343702088448, 0.6780735566064294, 0.6780735566064294, 0.6780735566064294, 0.6780735566064294, 0.6780735566064294, 0.6780735566064294, 0.6780735566064294, 0.6846917301117875, 0.6846917301117875]}], \"recall_score_weighted\": [{\"categories\": [\"0\", \"1\", \"2\", \"3\", \"4\", \"5\", \"6\", \"7\", \"8\", \"9\", \"10\", \"11\", \"12\", \"13\", \"14\", \"15\", \"16\", \"17\", \"18\", \"19\", \"20\", \"21\", \"22\", \"23\", \"24\", \"25\", \"26\", \"27\", \"28\"], \"mode\": \"markers\", \"name\": \"recall_score_weighted\", \"stepped\": false, \"type\": \"scatter\", \"data\": [0.7979661016949152, 0.8081920903954802, 0.7945762711864407, 0.8149717514124294, 0.8015819209039549, 0.7676836158192091, 0.8116384180790961, 0.8147457627118644, 0.8016949152542374, 0.8250847457627118, 0.7878531073446328, 0.8250282485875706, 0.8216384180790961, 0.7980790960451978, 0.8118644067796611, 0.821864406779661, 0.7509604519774011, 0.8049717514124293, 0.8186440677966103, 0.8116949152542373, 0.8419209039548022, 0.8050282485875705, 0.8216949152542373, 0.7980790960451978, 0.8116949152542372, 0.5387570621468927, 0.8117514124293785, 0.8487005649717514, 0.8351977401129943]}, {\"categories\": [\"0\", \"1\", \"2\", \"3\", \"4\", \"5\", \"6\", \"7\", \"8\", \"9\", \"10\", \"11\", \"12\", \"13\", \"14\", \"15\", \"16\", \"17\", \"18\", \"19\", \"20\", \"21\", \"22\", \"23\", \"24\", \"25\", \"26\", \"27\", \"28\"], \"mode\": \"lines\", \"name\": \"recall_score_weighted_max\", \"stepped\": true, \"type\": \"scatter\", \"data\": [0.7979661016949152, 0.8081920903954802, 0.8081920903954802, 0.8149717514124294, 0.8149717514124294, 0.8149717514124294, 0.8149717514124294, 0.8149717514124294, 0.8149717514124294, 0.8250847457627118, 0.8250847457627118, 0.8250847457627118, 0.8250847457627118, 0.8250847457627118, 0.8250847457627118, 0.8250847457627118, 0.8250847457627118, 0.8250847457627118, 0.8250847457627118, 0.8250847457627118, 0.8419209039548022, 0.8419209039548022, 0.8419209039548022, 0.8419209039548022, 0.8419209039548022, 0.8419209039548022, 0.8419209039548022, 0.8487005649717514, 0.8487005649717514]}], \"average_precision_score_weighted\": [{\"categories\": [\"0\", \"1\", \"2\", \"3\", \"4\", \"5\", \"6\", \"7\", \"8\", \"9\", \"10\", \"11\", \"12\", \"13\", \"14\", \"15\", \"16\", \"17\", \"18\", \"19\", \"20\", \"21\", \"22\", \"23\", \"24\", \"25\", \"26\", \"27\", \"28\"], \"mode\": \"markers\", \"name\": \"average_precision_score_weighted\", \"stepped\": false, \"type\": \"scatter\", \"data\": [0.8891265865630974, 0.8917183809525773, 0.8910466567714355, 0.8976546287151473, 0.9057403914566293, 0.8440322000044567, 0.905085705285296, 0.9103288671135402, 0.8674934442518818, 0.9038755743852237, 0.8736145073518149, 0.8930345488209536, 0.9004297214084163, 0.8617772576213847, 0.8966218082063364, 0.8902548980436158, 0.8395862645215368, 0.8998700397522905, 0.9046301096519496, 0.9020073554883995, 0.8963434697884137, 0.8840862606926498, 0.9148322990291101, 0.874870504395514, 0.9005235414076326, 0.5097005968910595, 0.9034884169265652, 0.9093884098676368, 0.9029133654977685]}, {\"categories\": [\"0\", \"1\", \"2\", \"3\", \"4\", \"5\", \"6\", \"7\", \"8\", \"9\", \"10\", \"11\", \"12\", \"13\", \"14\", \"15\", \"16\", \"17\", \"18\", \"19\", \"20\", \"21\", \"22\", \"23\", \"24\", \"25\", \"26\", \"27\", \"28\"], \"mode\": \"lines\", \"name\": \"average_precision_score_weighted_max\", \"stepped\": true, \"type\": \"scatter\", \"data\": [0.8891265865630974, 0.8917183809525773, 0.8917183809525773, 0.8976546287151473, 0.9057403914566293, 0.9057403914566293, 0.9057403914566293, 0.9103288671135402, 0.9103288671135402, 0.9103288671135402, 0.9103288671135402, 0.9103288671135402, 0.9103288671135402, 0.9103288671135402, 0.9103288671135402, 0.9103288671135402, 0.9103288671135402, 0.9103288671135402, 0.9103288671135402, 0.9103288671135402, 0.9103288671135402, 0.9103288671135402, 0.9148322990291101, 0.9148322990291101, 0.9148322990291101, 0.9148322990291101, 0.9148322990291101, 0.9148322990291101, 0.9148322990291101]}], \"recall_score_micro\": [{\"categories\": [\"0\", \"1\", \"2\", \"3\", \"4\", \"5\", \"6\", \"7\", \"8\", \"9\", \"10\", \"11\", \"12\", \"13\", \"14\", \"15\", \"16\", \"17\", \"18\", \"19\", \"20\", \"21\", \"22\", \"23\", \"24\", \"25\", \"26\", \"27\", \"28\"], \"mode\": \"markers\", \"name\": \"recall_score_micro\", \"stepped\": false, \"type\": \"scatter\", \"data\": [0.7979661016949152, 0.8081920903954802, 0.7945762711864407, 0.8149717514124294, 0.8015819209039549, 0.7676836158192091, 0.8116384180790961, 0.8147457627118644, 0.8016949152542374, 0.8250847457627118, 0.7878531073446328, 0.8250282485875706, 0.8216384180790961, 0.7980790960451978, 0.8118644067796611, 0.821864406779661, 0.7509604519774011, 0.8049717514124293, 0.8186440677966103, 0.8116949152542373, 0.8419209039548022, 0.8050282485875705, 0.8216949152542373, 0.7980790960451978, 0.8116949152542372, 0.5387570621468927, 0.8117514124293785, 0.8487005649717514, 0.8351977401129943]}, {\"categories\": [\"0\", \"1\", \"2\", \"3\", \"4\", \"5\", \"6\", \"7\", \"8\", \"9\", \"10\", \"11\", \"12\", \"13\", \"14\", \"15\", \"16\", \"17\", \"18\", \"19\", \"20\", \"21\", \"22\", \"23\", \"24\", \"25\", \"26\", \"27\", \"28\"], \"mode\": \"lines\", \"name\": \"recall_score_micro_max\", \"stepped\": true, \"type\": \"scatter\", \"data\": [0.7979661016949152, 0.8081920903954802, 0.8081920903954802, 0.8149717514124294, 0.8149717514124294, 0.8149717514124294, 0.8149717514124294, 0.8149717514124294, 0.8149717514124294, 0.8250847457627118, 0.8250847457627118, 0.8250847457627118, 0.8250847457627118, 0.8250847457627118, 0.8250847457627118, 0.8250847457627118, 0.8250847457627118, 0.8250847457627118, 0.8250847457627118, 0.8250847457627118, 0.8419209039548022, 0.8419209039548022, 0.8419209039548022, 0.8419209039548022, 0.8419209039548022, 0.8419209039548022, 0.8419209039548022, 0.8487005649717514, 0.8487005649717514]}], \"average_precision_score_macro\": [{\"categories\": [\"0\", \"1\", \"2\", \"3\", \"4\", \"5\", \"6\", \"7\", \"8\", \"9\", \"10\", \"11\", \"12\", \"13\", \"14\", \"15\", \"16\", \"17\", \"18\", \"19\", \"20\", \"21\", \"22\", \"23\", \"24\", \"25\", \"26\", \"27\", \"28\"], \"mode\": \"markers\", \"name\": \"average_precision_score_macro\", \"stepped\": false, \"type\": \"scatter\", \"data\": [0.8869973764874433, 0.8899612545981143, 0.8891176642026819, 0.8962821791268748, 0.9031100653112668, 0.8410581665398089, 0.9025920118249982, 0.9079710752746705, 0.8645392622202774, 0.901254033817725, 0.8714012633740431, 0.8907058347427741, 0.8982750436327548, 0.8586453910921275, 0.894802170805949, 0.8866903425634314, 0.8354378363750923, 0.8981216287029637, 0.9029280926121146, 0.8996578343733173, 0.8938277334066601, 0.8813686632797909, 0.9121710038557158, 0.8730386004787046, 0.8988124712061465, 0.5, 0.9013144543603284, 0.9071329207317993, 0.8999837835302694]}, {\"categories\": [\"0\", \"1\", \"2\", \"3\", \"4\", \"5\", \"6\", \"7\", \"8\", \"9\", \"10\", \"11\", \"12\", \"13\", \"14\", \"15\", \"16\", \"17\", \"18\", \"19\", \"20\", \"21\", \"22\", \"23\", \"24\", \"25\", \"26\", \"27\", \"28\"], \"mode\": \"lines\", \"name\": \"average_precision_score_macro_max\", \"stepped\": true, \"type\": \"scatter\", \"data\": [0.8869973764874433, 0.8899612545981143, 0.8899612545981143, 0.8962821791268748, 0.9031100653112668, 0.9031100653112668, 0.9031100653112668, 0.9079710752746705, 0.9079710752746705, 0.9079710752746705, 0.9079710752746705, 0.9079710752746705, 0.9079710752746705, 0.9079710752746705, 0.9079710752746705, 0.9079710752746705, 0.9079710752746705, 0.9079710752746705, 0.9079710752746705, 0.9079710752746705, 0.9079710752746705, 0.9079710752746705, 0.9121710038557158, 0.9121710038557158, 0.9121710038557158, 0.9121710038557158, 0.9121710038557158, 0.9121710038557158, 0.9121710038557158]}], \"AUC_micro\": [{\"categories\": [\"0\", \"1\", \"2\", \"3\", \"4\", \"5\", \"6\", \"7\", \"8\", \"9\", \"10\", \"11\", \"12\", \"13\", \"14\", \"15\", \"16\", \"17\", \"18\", \"19\", \"20\", \"21\", \"22\", \"23\", \"24\", \"25\", \"26\", \"27\", \"28\"], \"mode\": \"markers\", \"name\": \"AUC_micro\", \"stepped\": false, \"type\": \"scatter\", \"data\": [0.8824559992339365, 0.8827821986019343, 0.8817936097545406, 0.8896739283092343, 0.9028429570046923, 0.8399007309521529, 0.9020851287944078, 0.9047660474320918, 0.8701516167129496, 0.9002005170927895, 0.8633064253566982, 0.8876544575313607, 0.8975827667656164, 0.8662684413801909, 0.8914911104727249, 0.8846815251045358, 0.8283781799610583, 0.8911487758945386, 0.9022707714896742, 0.9006767691276453, 0.8918629065721856, 0.8872024322512688, 0.9087964186536436, 0.881665868683967, 0.893448865268601, 0.5387570621468927, 0.8978044942385649, 0.9045438092502154, 0.8986729707299945]}, {\"categories\": [\"0\", \"1\", \"2\", \"3\", \"4\", \"5\", \"6\", \"7\", \"8\", \"9\", \"10\", \"11\", \"12\", \"13\", \"14\", \"15\", \"16\", \"17\", \"18\", \"19\", \"20\", \"21\", \"22\", \"23\", \"24\", \"25\", \"26\", \"27\", \"28\"], \"mode\": \"lines\", \"name\": \"AUC_micro_max\", \"stepped\": true, \"type\": \"scatter\", \"data\": [0.8824559992339365, 0.8827821986019343, 0.8827821986019343, 0.8896739283092343, 0.9028429570046923, 0.9028429570046923, 0.9028429570046923, 0.9047660474320918, 0.9047660474320918, 0.9047660474320918, 0.9047660474320918, 0.9047660474320918, 0.9047660474320918, 0.9047660474320918, 0.9047660474320918, 0.9047660474320918, 0.9047660474320918, 0.9047660474320918, 0.9047660474320918, 0.9047660474320918, 0.9047660474320918, 0.9047660474320918, 0.9087964186536436, 0.9087964186536436, 0.9087964186536436, 0.9087964186536436, 0.9087964186536436, 0.9087964186536436, 0.9087964186536436]}], \"weighted_accuracy\": [{\"categories\": [\"0\", \"1\", \"2\", \"3\", \"4\", \"5\", \"6\", \"7\", \"8\", \"9\", \"10\", \"11\", \"12\", \"13\", \"14\", \"15\", \"16\", \"17\", \"18\", \"19\", \"20\", \"21\", \"22\", \"23\", \"24\", \"25\", \"26\", \"27\", \"28\"], \"mode\": \"markers\", \"name\": \"weighted_accuracy\", \"stepped\": false, \"type\": \"scatter\", \"data\": [0.8001482180284173, 0.8084522138852159, 0.7946067846911834, 0.8171923619762526, 0.8054413408360175, 0.7702782305432875, 0.8162505062182424, 0.8196144106143961, 0.802397819293813, 0.827758608272244, 0.7901482206609043, 0.8282707015791443, 0.8256673074446234, 0.7990289265038806, 0.817908717833974, 0.824459784443167, 0.7569272896045988, 0.8086904090918091, 0.8246868175030379, 0.8171315680538342, 0.8445114721281218, 0.8092179755430454, 0.8261274398940704, 0.803313307922673, 0.8159886572318555, 0.5729163872533182, 0.8129128198000286, 0.8543117415780465, 0.840389601353414]}, {\"categories\": [\"0\", \"1\", \"2\", \"3\", \"4\", \"5\", \"6\", \"7\", \"8\", \"9\", \"10\", \"11\", \"12\", \"13\", \"14\", \"15\", \"16\", \"17\", \"18\", \"19\", \"20\", \"21\", \"22\", \"23\", \"24\", \"25\", \"26\", \"27\", \"28\"], \"mode\": \"lines\", \"name\": \"weighted_accuracy_max\", \"stepped\": true, \"type\": \"scatter\", \"data\": [0.8001482180284173, 0.8084522138852159, 0.8084522138852159, 0.8171923619762526, 0.8171923619762526, 0.8171923619762526, 0.8171923619762526, 0.8196144106143961, 0.8196144106143961, 0.827758608272244, 0.827758608272244, 0.8282707015791443, 0.8282707015791443, 0.8282707015791443, 0.8282707015791443, 0.8282707015791443, 0.8282707015791443, 0.8282707015791443, 0.8282707015791443, 0.8282707015791443, 0.8445114721281218, 0.8445114721281218, 0.8445114721281218, 0.8445114721281218, 0.8445114721281218, 0.8445114721281218, 0.8445114721281218, 0.8543117415780465, 0.8543117415780465]}], \"f1_score_macro\": [{\"categories\": [\"0\", \"1\", \"2\", \"3\", \"4\", \"5\", \"6\", \"7\", \"8\", \"9\", \"10\", \"11\", \"12\", \"13\", \"14\", \"15\", \"16\", \"17\", \"18\", \"19\", \"20\", \"21\", \"22\", \"23\", \"24\", \"25\", \"26\", \"27\", \"28\"], \"mode\": \"markers\", \"name\": \"f1_score_macro\", \"stepped\": false, \"type\": \"scatter\", \"data\": [0.7937986463330802, 0.8052021793613189, 0.7910225669904244, 0.810662412828389, 0.797032528872785, 0.7627762879682869, 0.8066816804315813, 0.8092215620992207, 0.7974960052493948, 0.8209963227385433, 0.7831842051783733, 0.8204158381721237, 0.8173617429055687, 0.7942749725102665, 0.8067056782606732, 0.8176228816603481, 0.7434988354381143, 0.8007705822247093, 0.8135706649908784, 0.806334874002529, 0.8378906940083543, 0.8006485746097394, 0.8169996087102275, 0.7924814184762344, 0.8071948379916611, 0.3492336719603022, 0.8084288214449884, 0.8437302230446925, 0.8297535133269021]}, {\"categories\": [\"0\", \"1\", \"2\", \"3\", \"4\", \"5\", \"6\", \"7\", \"8\", \"9\", \"10\", \"11\", \"12\", \"13\", \"14\", \"15\", \"16\", \"17\", \"18\", \"19\", \"20\", \"21\", \"22\", \"23\", \"24\", \"25\", \"26\", \"27\", \"28\"], \"mode\": \"lines\", \"name\": \"f1_score_macro_max\", \"stepped\": true, \"type\": \"scatter\", \"data\": [0.7937986463330802, 0.8052021793613189, 0.8052021793613189, 0.810662412828389, 0.810662412828389, 0.810662412828389, 0.810662412828389, 0.810662412828389, 0.810662412828389, 0.8209963227385433, 0.8209963227385433, 0.8209963227385433, 0.8209963227385433, 0.8209963227385433, 0.8209963227385433, 0.8209963227385433, 0.8209963227385433, 0.8209963227385433, 0.8209963227385433, 0.8209963227385433, 0.8378906940083543, 0.8378906940083543, 0.8378906940083543, 0.8378906940083543, 0.8378906940083543, 0.8378906940083543, 0.8378906940083543, 0.8437302230446925, 0.8437302230446925]}], \"log_loss\": [{\"categories\": [\"0\", \"1\", \"2\", \"3\", \"4\", \"5\", \"6\", \"7\", \"8\", \"9\", \"10\", \"11\", \"12\", \"13\", \"14\", \"15\", \"16\", \"17\", \"18\", \"19\", \"20\", \"21\", \"22\", \"23\", \"24\", \"25\", \"26\", \"27\", \"28\"], \"mode\": \"markers\", \"name\": \"log_loss\", \"stepped\": false, \"type\": \"scatter\", \"data\": [0.5164636216780026, 0.4654721928433506, 0.43299078304750954, 0.43110941505731787, 0.4058960216952139, 0.5087160051189051, 0.4018219258214633, 0.41797663747546754, 0.45124181903888516, 0.4033594542427559, 0.5198384661595734, 0.4230535590937688, 0.4617066195248542, 0.49639028062505225, 0.4403489782920905, 0.4372114864983502, 0.5099380439756953, 0.43901914996651986, 0.42010311863387634, 0.445423163297726, 0.43890772251223814, 0.47324076517907787, 0.43082537869391313, 0.5098822507413786, 0.4319377358048671, 0.694043259258717, 0.41342283307905936, 0.42849117830126204, 0.4116766536370138]}, {\"categories\": [\"0\", \"1\", \"2\", \"3\", \"4\", \"5\", \"6\", \"7\", \"8\", \"9\", \"10\", \"11\", \"12\", \"13\", \"14\", \"15\", \"16\", \"17\", \"18\", \"19\", \"20\", \"21\", \"22\", \"23\", \"24\", \"25\", \"26\", \"27\", \"28\"], \"mode\": \"lines\", \"name\": \"log_loss_min\", \"stepped\": true, \"type\": \"scatter\", \"data\": [0.5164636216780026, 0.4654721928433506, 0.43299078304750954, 0.43110941505731787, 0.4058960216952139, 0.4058960216952139, 0.4018219258214633, 0.4018219258214633, 0.4018219258214633, 0.4018219258214633, 0.4018219258214633, 0.4018219258214633, 0.4018219258214633, 0.4018219258214633, 0.4018219258214633, 0.4018219258214633, 0.4018219258214633, 0.4018219258214633, 0.4018219258214633, 0.4018219258214633, 0.4018219258214633, 0.4018219258214633, 0.4018219258214633, 0.4018219258214633, 0.4018219258214633, 0.4018219258214633, 0.4018219258214633, 0.4018219258214633, 0.4018219258214633]}], \"f1_score_micro\": [{\"categories\": [\"0\", \"1\", \"2\", \"3\", \"4\", \"5\", \"6\", \"7\", \"8\", \"9\", \"10\", \"11\", \"12\", \"13\", \"14\", \"15\", \"16\", \"17\", \"18\", \"19\", \"20\", \"21\", \"22\", \"23\", \"24\", \"25\", \"26\", \"27\", \"28\"], \"mode\": \"markers\", \"name\": \"f1_score_micro\", \"stepped\": false, \"type\": \"scatter\", \"data\": [0.7979661016949152, 0.8081920903954802, 0.7945762711864407, 0.8149717514124294, 0.8015819209039549, 0.7676836158192091, 0.8116384180790961, 0.8147457627118644, 0.8016949152542374, 0.8250847457627118, 0.7878531073446328, 0.8250282485875706, 0.8216384180790961, 0.7980790960451978, 0.8118644067796611, 0.821864406779661, 0.7509604519774011, 0.8049717514124293, 0.8186440677966103, 0.8116949152542373, 0.8419209039548022, 0.8050282485875705, 0.8216949152542373, 0.7980790960451978, 0.8116949152542372, 0.5387570621468927, 0.8117514124293785, 0.8487005649717514, 0.8351977401129943]}, {\"categories\": [\"0\", \"1\", \"2\", \"3\", \"4\", \"5\", \"6\", \"7\", \"8\", \"9\", \"10\", \"11\", \"12\", \"13\", \"14\", \"15\", \"16\", \"17\", \"18\", \"19\", \"20\", \"21\", \"22\", \"23\", \"24\", \"25\", \"26\", \"27\", \"28\"], \"mode\": \"lines\", \"name\": \"f1_score_micro_max\", \"stepped\": true, \"type\": \"scatter\", \"data\": [0.7979661016949152, 0.8081920903954802, 0.8081920903954802, 0.8149717514124294, 0.8149717514124294, 0.8149717514124294, 0.8149717514124294, 0.8149717514124294, 0.8149717514124294, 0.8250847457627118, 0.8250847457627118, 0.8250847457627118, 0.8250847457627118, 0.8250847457627118, 0.8250847457627118, 0.8250847457627118, 0.8250847457627118, 0.8250847457627118, 0.8250847457627118, 0.8250847457627118, 0.8419209039548022, 0.8419209039548022, 0.8419209039548022, 0.8419209039548022, 0.8419209039548022, 0.8419209039548022, 0.8419209039548022, 0.8487005649717514, 0.8487005649717514]}]}, \"metricName\": null, \"primaryMetricName\": \"accuracy\", \"showLegend\": false}, \"run_metrics\": [{\"name\": \"experiment_status\", \"run_id\": \"AutoML_7afbb833-3ef3-43b9-aae0-8d2ef144c9ad\", \"categories\": [0, 1, 2, 3, 4, 5], \"series\": [{\"data\": [\"DatasetEvaluation\", \"FeaturesGeneration\", \"DatasetFeaturization\", \"DatasetFeaturizationCompleted\", \"DatasetCrossValidationSplit\", \"ModelSelection\"]}]}, {\"name\": \"experiment_status_description\", \"run_id\": \"AutoML_7afbb833-3ef3-43b9-aae0-8d2ef144c9ad\", \"categories\": [0, 1, 2, 3, 4, 5], \"series\": [{\"data\": [\"Gathering dataset statistics.\", \"Generating features for the dataset.\", \"Beginning to fit featurizers and featurize the dataset.\", \"Completed fit featurizers and featurizing the dataset.\", \"Generating individually featurized CV splits.\", \"Beginning model selection.\"]}]}, {\"name\": \"matthews_correlation\", \"run_id\": \"AutoML_7afbb833-3ef3-43b9-aae0-8d2ef144c9ad\", \"categories\": [0], \"series\": [{\"data\": [0.6919316663626404]}]}, {\"name\": \"recall_score_micro\", \"run_id\": \"AutoML_7afbb833-3ef3-43b9-aae0-8d2ef144c9ad\", \"categories\": [0], \"series\": [{\"data\": [0.8487005649717514]}]}, {\"name\": \"precision_score_micro\", \"run_id\": \"AutoML_7afbb833-3ef3-43b9-aae0-8d2ef144c9ad\", \"categories\": [0], \"series\": [{\"data\": [0.8487005649717514]}]}, {\"name\": \"recall_score_macro\", \"run_id\": \"AutoML_7afbb833-3ef3-43b9-aae0-8d2ef144c9ad\", \"categories\": [0], \"series\": [{\"data\": [0.8423458650558938]}]}, {\"name\": \"AUC_micro\", \"run_id\": \"AutoML_7afbb833-3ef3-43b9-aae0-8d2ef144c9ad\", \"categories\": [0], \"series\": [{\"data\": [0.9045438092502154]}]}, {\"name\": \"log_loss\", \"run_id\": \"AutoML_7afbb833-3ef3-43b9-aae0-8d2ef144c9ad\", \"categories\": [0], \"series\": [{\"data\": [0.42849117830126204]}]}, {\"name\": \"f1_score_macro\", \"run_id\": \"AutoML_7afbb833-3ef3-43b9-aae0-8d2ef144c9ad\", \"categories\": [0], \"series\": [{\"data\": [0.8437302230446925]}]}, {\"name\": \"precision_score_macro\", \"run_id\": \"AutoML_7afbb833-3ef3-43b9-aae0-8d2ef144c9ad\", \"categories\": [0], \"series\": [{\"data\": [0.849678259472402]}]}, {\"name\": \"average_precision_score_macro\", \"run_id\": \"AutoML_7afbb833-3ef3-43b9-aae0-8d2ef144c9ad\", \"categories\": [0], \"series\": [{\"data\": [0.9071329207317993]}]}, {\"name\": \"accuracy\", \"run_id\": \"AutoML_7afbb833-3ef3-43b9-aae0-8d2ef144c9ad\", \"categories\": [0], \"series\": [{\"data\": [0.8487005649717514]}]}, {\"name\": \"balanced_accuracy\", \"run_id\": \"AutoML_7afbb833-3ef3-43b9-aae0-8d2ef144c9ad\", \"categories\": [0], \"series\": [{\"data\": [0.8423458650558938]}]}, {\"name\": \"norm_macro_recall\", \"run_id\": \"AutoML_7afbb833-3ef3-43b9-aae0-8d2ef144c9ad\", \"categories\": [0], \"series\": [{\"data\": [0.6846917301117875]}]}, {\"name\": \"weighted_accuracy\", \"run_id\": \"AutoML_7afbb833-3ef3-43b9-aae0-8d2ef144c9ad\", \"categories\": [0], \"series\": [{\"data\": [0.8543117415780465]}]}, {\"name\": \"recall_score_weighted\", \"run_id\": \"AutoML_7afbb833-3ef3-43b9-aae0-8d2ef144c9ad\", \"categories\": [0], \"series\": [{\"data\": [0.8487005649717514]}]}, {\"name\": \"f1_score_micro\", \"run_id\": \"AutoML_7afbb833-3ef3-43b9-aae0-8d2ef144c9ad\", \"categories\": [0], \"series\": [{\"data\": [0.8487005649717514]}]}, {\"name\": \"average_precision_score_micro\", \"run_id\": \"AutoML_7afbb833-3ef3-43b9-aae0-8d2ef144c9ad\", \"categories\": [0], \"series\": [{\"data\": [0.9087565196290919]}]}, {\"name\": \"AUC_weighted\", \"run_id\": \"AutoML_7afbb833-3ef3-43b9-aae0-8d2ef144c9ad\", \"categories\": [0], \"series\": [{\"data\": [0.9002442263679896]}]}, {\"name\": \"f1_score_weighted\", \"run_id\": \"AutoML_7afbb833-3ef3-43b9-aae0-8d2ef144c9ad\", \"categories\": [0], \"series\": [{\"data\": [0.8475155037179182]}]}, {\"name\": \"average_precision_score_weighted\", \"run_id\": \"AutoML_7afbb833-3ef3-43b9-aae0-8d2ef144c9ad\", \"categories\": [0], \"series\": [{\"data\": [0.9093884098676368]}]}, {\"name\": \"AUC_macro\", \"run_id\": \"AutoML_7afbb833-3ef3-43b9-aae0-8d2ef144c9ad\", \"categories\": [0], \"series\": [{\"data\": [0.9002442263679896]}]}, {\"name\": \"precision_score_weighted\", \"run_id\": \"AutoML_7afbb833-3ef3-43b9-aae0-8d2ef144c9ad\", \"categories\": [0], \"series\": [{\"data\": [0.8507473397563251]}]}], \"run_logs\": \"\\nRun is completed.\", \"graph\": {}, \"widget_settings\": {\"childWidgetDisplay\": \"popup\", \"send_telemetry\": false, \"log_level\": \"INFO\", \"sdk_version\": \"1.19.0\"}, \"loading\": false}"
     },
     "metadata": {},
     "output_type": "display_data"
    }
   ],
   "source": [
    "RunDetails(automl_run).show()"
   ]
  },
  {
   "cell_type": "markdown",
   "metadata": {},
   "source": [
    "## Best Model\n",
    "\n",
    "TODO: In the cell below, get the best model from the automl experiments and display all the properties of the model.\n",
    "\n"
   ]
  },
  {
   "cell_type": "code",
   "execution_count": 8,
   "metadata": {
    "gather": {
     "logged": 1598431425670
    },
    "jupyter": {
     "outputs_hidden": false,
     "source_hidden": false
    },
    "nteract": {
     "transient": {
      "deleting": false
     }
    }
   },
   "outputs": [
    {
     "name": "stdout",
     "output_type": "stream",
     "text": [
      "average_precision_score_macro 0.9071329207317993\n",
      "accuracy 0.8487005649717514\n",
      "f1_score_macro 0.8437302230446925\n",
      "precision_score_macro 0.849678259472402\n",
      "balanced_accuracy 0.8423458650558938\n",
      "f1_score_micro 0.8487005649717514\n",
      "f1_score_weighted 0.8475155037179182\n",
      "AUC_macro 0.9002442263679896\n",
      "log_loss 0.42849117830126204\n",
      "recall_score_macro 0.8423458650558938\n",
      "precision_score_weighted 0.8507473397563251\n",
      "recall_score_weighted 0.8487005649717514\n",
      "weighted_accuracy 0.8543117415780465\n",
      "recall_score_micro 0.8487005649717514\n",
      "AUC_micro 0.9045438092502154\n",
      "AUC_weighted 0.9002442263679896\n",
      "norm_macro_recall 0.6846917301117875\n",
      "matthews_correlation 0.6919316663626404\n",
      "precision_score_micro 0.8487005649717514\n",
      "average_precision_score_micro 0.9087565196290919\n",
      "average_precision_score_weighted 0.9093884098676368\n",
      "confusion_matrix aml://artifactId/ExperimentRun/dcid.AutoML_7afbb833-3ef3-43b9-aae0-8d2ef144c9ad_27/confusion_matrix\n",
      "accuracy_table aml://artifactId/ExperimentRun/dcid.AutoML_7afbb833-3ef3-43b9-aae0-8d2ef144c9ad_27/accuracy_table\n"
     ]
    }
   ],
   "source": [
    "automl_best_run, fitted_model = automl_run.get_output()\n",
    "automl_best_run_metrics = automl_best_run.get_metrics()\n",
    "for metric_name in automl_best_run_metrics:\n",
    "    metric = automl_best_run_metrics[metric_name]\n",
    "    print(metric_name, metric)"
   ]
  },
  {
   "cell_type": "code",
   "execution_count": 9,
   "metadata": {},
   "outputs": [
    {
     "data": {
      "text/plain": [
       "Model(workspace=Workspace.create(name='quick-starts-ws-134203', subscription_id='9e65f93e-bdd8-437b-b1e8-0647cd6098f7', resource_group='aml-quickstarts-134203'), name=autoMLbestRun, id=autoMLbestRun:1, version=1, tags={}, properties={})"
      ]
     },
     "execution_count": 9,
     "metadata": {},
     "output_type": "execute_result"
    }
   ],
   "source": [
    "automl_best_run.register_model('autoMLbestRun','outputs/model.pkl')"
   ]
  },
  {
   "cell_type": "code",
   "execution_count": 10,
   "metadata": {
    "gather": {
     "logged": 1598431435189
    },
    "jupyter": {
     "outputs_hidden": false,
     "source_hidden": false
    },
    "nteract": {
     "transient": {
      "deleting": false
     }
    }
   },
   "outputs": [
    {
     "data": {
      "text/plain": [
       "['accuracy_table',\n",
       " 'automl_driver.py',\n",
       " 'azureml-logs/55_azureml-execution-tvmps_c92231fbec862850c5704cc8e8183627f7cd1abd155a576554ddddf2911c7893_d.txt',\n",
       " 'azureml-logs/65_job_prep-tvmps_c92231fbec862850c5704cc8e8183627f7cd1abd155a576554ddddf2911c7893_d.txt',\n",
       " 'azureml-logs/70_driver_log.txt',\n",
       " 'azureml-logs/75_job_post-tvmps_c92231fbec862850c5704cc8e8183627f7cd1abd155a576554ddddf2911c7893_d.txt',\n",
       " 'azureml-logs/process_info.json',\n",
       " 'azureml-logs/process_status.json',\n",
       " 'confusion_matrix',\n",
       " 'logs/azureml/100_azureml.log',\n",
       " 'logs/azureml/azureml_automl.log',\n",
       " 'logs/azureml/dataprep/python_span_5384a676-7be1-4542-a8ea-36aebd4a8a31.jsonl',\n",
       " 'logs/azureml/dataprep/python_span_82333ddf-c3f9-446b-bf55-c5616dd1b40e.jsonl',\n",
       " 'logs/azureml/job_prep_azureml.log',\n",
       " 'logs/azureml/job_release_azureml.log',\n",
       " 'outputs/conda_env_v_1_0_0.yml',\n",
       " 'outputs/env_dependencies.json',\n",
       " 'outputs/model.pkl',\n",
       " 'outputs/pipeline_graph.json',\n",
       " 'outputs/scoring_file_v_1_0_0.py']"
      ]
     },
     "execution_count": 10,
     "metadata": {},
     "output_type": "execute_result"
    }
   ],
   "source": [
    "automl_best_run.get_file_names()"
   ]
  },
  {
   "cell_type": "code",
   "execution_count": 11,
   "metadata": {
    "gather": {
     "logged": 1598432707604
    },
    "jupyter": {
     "outputs_hidden": false,
     "source_hidden": false
    },
    "nteract": {
     "transient": {
      "deleting": false
     }
    }
   },
   "outputs": [],
   "source": [
    "automl_best_run.download_file('outputs/conda_env_v_1_0_0.yml','conda_env.yml')"
   ]
  },
  {
   "cell_type": "code",
   "execution_count": 12,
   "metadata": {
    "jupyter": {
     "outputs_hidden": false,
     "source_hidden": false
    },
    "nteract": {
     "transient": {
      "deleting": false
     }
    }
   },
   "outputs": [],
   "source": [
    "automl_best_run.download_file('outputs/scoring_file_v_1_0_0.py','score.py')"
   ]
  },
  {
   "cell_type": "markdown",
   "metadata": {},
   "source": [
    "## Model Deployment\n",
    "\n",
    "Remember you have to deploy only one of the two models you trained.. Perform the steps in the rest of this notebook only if you wish to deploy this model.\n",
    "\n",
    "TODO: In the cell below, register the model, create an inference config and deploy the model as a web service."
   ]
  },
  {
   "cell_type": "code",
   "execution_count": null,
   "metadata": {},
   "outputs": [],
   "source": [
    "#hyperdrive has better accuracy. So doing the steps in hyperparameter_tuning.ipynb"
   ]
  },
  {
   "cell_type": "markdown",
   "metadata": {
    "collapsed": true,
    "gather": {
     "logged": 1598431657736
    },
    "jupyter": {
     "outputs_hidden": false,
     "source_hidden": false
    },
    "nteract": {
     "transient": {
      "deleting": false
     }
    }
   },
   "source": [
    "TODO: In the cell below, send a request to the web service you deployed to test it."
   ]
  },
  {
   "cell_type": "markdown",
   "metadata": {
    "collapsed": true,
    "gather": {
     "logged": 1598432765711
    },
    "jupyter": {
     "outputs_hidden": false,
     "source_hidden": false
    },
    "nteract": {
     "transient": {
      "deleting": false
     }
    }
   },
   "source": [
    "TODO: In the cell below, print the logs of the web service and delete the service"
   ]
  }
 ],
 "metadata": {
  "kernel_info": {
   "name": "python3-azureml"
  },
  "kernelspec": {
   "display_name": "Python 3",
   "language": "python",
   "name": "python3"
  },
  "language_info": {
   "codemirror_mode": {
    "name": "ipython",
    "version": 3
   },
   "file_extension": ".py",
   "mimetype": "text/x-python",
   "name": "python",
   "nbconvert_exporter": "python",
   "pygments_lexer": "ipython3",
   "version": "3.6.9"
  },
  "nteract": {
   "version": "nteract-front-end@1.0.0"
  }
 },
 "nbformat": 4,
 "nbformat_minor": 2
}
